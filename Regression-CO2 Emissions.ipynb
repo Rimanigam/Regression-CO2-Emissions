{
 "cells": [
  {
   "cell_type": "markdown",
   "metadata": {},
   "source": [
    "# Importing libraries"
   ]
  },
  {
   "cell_type": "code",
   "execution_count": 1,
   "metadata": {},
   "outputs": [],
   "source": [
    "import pandas as pd\n",
    "import numpy as np\n",
    "import seaborn as sns\n",
    "import matplotlib.pyplot as plt\n"
   ]
  },
  {
   "cell_type": "markdown",
   "metadata": {},
   "source": [
    "# Reading the Dataset"
   ]
  },
  {
   "cell_type": "code",
   "execution_count": 2,
   "metadata": {},
   "outputs": [],
   "source": [
    "data = pd.read_csv(\"CO2 Emissions_Canada.csv\")"
   ]
  },
  {
   "cell_type": "markdown",
   "metadata": {},
   "source": [
    "# Exploring the Dataset"
   ]
  },
  {
   "cell_type": "code",
   "execution_count": 3,
   "metadata": {},
   "outputs": [
    {
     "data": {
      "text/html": [
       "<div>\n",
       "<style scoped>\n",
       "    .dataframe tbody tr th:only-of-type {\n",
       "        vertical-align: middle;\n",
       "    }\n",
       "\n",
       "    .dataframe tbody tr th {\n",
       "        vertical-align: top;\n",
       "    }\n",
       "\n",
       "    .dataframe thead th {\n",
       "        text-align: right;\n",
       "    }\n",
       "</style>\n",
       "<table border=\"1\" class=\"dataframe\">\n",
       "  <thead>\n",
       "    <tr style=\"text-align: right;\">\n",
       "      <th></th>\n",
       "      <th>Make</th>\n",
       "      <th>VehicleClass</th>\n",
       "      <th>EngineSize(L)</th>\n",
       "      <th>Cylinders</th>\n",
       "      <th>Transmission</th>\n",
       "      <th>FuelType</th>\n",
       "      <th>FuelConsumptionCity(L/100 km)</th>\n",
       "      <th>FuelConsumptionHwy(L/100 km)</th>\n",
       "      <th>FuelConsumptionComb(L/100 km)</th>\n",
       "      <th>FuelConsumptionComb(mpg)</th>\n",
       "      <th>CO2Emissions(g/km)</th>\n",
       "    </tr>\n",
       "  </thead>\n",
       "  <tbody>\n",
       "    <tr>\n",
       "      <th>0</th>\n",
       "      <td>ACURA</td>\n",
       "      <td>COMPACT</td>\n",
       "      <td>2.0</td>\n",
       "      <td>4</td>\n",
       "      <td>AS5</td>\n",
       "      <td>Z</td>\n",
       "      <td>9.9</td>\n",
       "      <td>6.7</td>\n",
       "      <td>8.5</td>\n",
       "      <td>33</td>\n",
       "      <td>196</td>\n",
       "    </tr>\n",
       "    <tr>\n",
       "      <th>1</th>\n",
       "      <td>ACURA</td>\n",
       "      <td>COMPACT</td>\n",
       "      <td>2.4</td>\n",
       "      <td>4</td>\n",
       "      <td>M6</td>\n",
       "      <td>Z</td>\n",
       "      <td>11.2</td>\n",
       "      <td>7.7</td>\n",
       "      <td>9.6</td>\n",
       "      <td>29</td>\n",
       "      <td>221</td>\n",
       "    </tr>\n",
       "    <tr>\n",
       "      <th>2</th>\n",
       "      <td>ACURA</td>\n",
       "      <td>COMPACT</td>\n",
       "      <td>1.5</td>\n",
       "      <td>4</td>\n",
       "      <td>AV7</td>\n",
       "      <td>Z</td>\n",
       "      <td>6.0</td>\n",
       "      <td>5.8</td>\n",
       "      <td>5.9</td>\n",
       "      <td>48</td>\n",
       "      <td>136</td>\n",
       "    </tr>\n",
       "    <tr>\n",
       "      <th>3</th>\n",
       "      <td>ACURA</td>\n",
       "      <td>SUV - SMALL</td>\n",
       "      <td>3.5</td>\n",
       "      <td>6</td>\n",
       "      <td>AS6</td>\n",
       "      <td>Z</td>\n",
       "      <td>12.7</td>\n",
       "      <td>9.1</td>\n",
       "      <td>11.1</td>\n",
       "      <td>25</td>\n",
       "      <td>255</td>\n",
       "    </tr>\n",
       "    <tr>\n",
       "      <th>4</th>\n",
       "      <td>ACURA</td>\n",
       "      <td>SUV - SMALL</td>\n",
       "      <td>3.5</td>\n",
       "      <td>6</td>\n",
       "      <td>AS6</td>\n",
       "      <td>Z</td>\n",
       "      <td>12.1</td>\n",
       "      <td>8.7</td>\n",
       "      <td>10.6</td>\n",
       "      <td>27</td>\n",
       "      <td>244</td>\n",
       "    </tr>\n",
       "  </tbody>\n",
       "</table>\n",
       "</div>"
      ],
      "text/plain": [
       "    Make VehicleClass  EngineSize(L)  Cylinders Transmission FuelType  \\\n",
       "0  ACURA      COMPACT            2.0          4          AS5        Z   \n",
       "1  ACURA      COMPACT            2.4          4           M6        Z   \n",
       "2  ACURA      COMPACT            1.5          4          AV7        Z   \n",
       "3  ACURA  SUV - SMALL            3.5          6          AS6        Z   \n",
       "4  ACURA  SUV - SMALL            3.5          6          AS6        Z   \n",
       "\n",
       "   FuelConsumptionCity(L/100 km)  FuelConsumptionHwy(L/100 km)  \\\n",
       "0                            9.9                           6.7   \n",
       "1                           11.2                           7.7   \n",
       "2                            6.0                           5.8   \n",
       "3                           12.7                           9.1   \n",
       "4                           12.1                           8.7   \n",
       "\n",
       "   FuelConsumptionComb(L/100 km)  FuelConsumptionComb(mpg)  CO2Emissions(g/km)  \n",
       "0                            8.5                        33                 196  \n",
       "1                            9.6                        29                 221  \n",
       "2                            5.9                        48                 136  \n",
       "3                           11.1                        25                 255  \n",
       "4                           10.6                        27                 244  "
      ]
     },
     "execution_count": 3,
     "metadata": {},
     "output_type": "execute_result"
    }
   ],
   "source": [
    "data.head()"
   ]
  },
  {
   "cell_type": "code",
   "execution_count": 4,
   "metadata": {},
   "outputs": [
    {
     "data": {
      "text/html": [
       "<div>\n",
       "<style scoped>\n",
       "    .dataframe tbody tr th:only-of-type {\n",
       "        vertical-align: middle;\n",
       "    }\n",
       "\n",
       "    .dataframe tbody tr th {\n",
       "        vertical-align: top;\n",
       "    }\n",
       "\n",
       "    .dataframe thead th {\n",
       "        text-align: right;\n",
       "    }\n",
       "</style>\n",
       "<table border=\"1\" class=\"dataframe\">\n",
       "  <thead>\n",
       "    <tr style=\"text-align: right;\">\n",
       "      <th></th>\n",
       "      <th>EngineSize(L)</th>\n",
       "      <th>Cylinders</th>\n",
       "      <th>FuelConsumptionCity(L/100 km)</th>\n",
       "      <th>FuelConsumptionHwy(L/100 km)</th>\n",
       "      <th>FuelConsumptionComb(L/100 km)</th>\n",
       "      <th>FuelConsumptionComb(mpg)</th>\n",
       "      <th>CO2Emissions(g/km)</th>\n",
       "    </tr>\n",
       "  </thead>\n",
       "  <tbody>\n",
       "    <tr>\n",
       "      <th>count</th>\n",
       "      <td>7385.000000</td>\n",
       "      <td>7385.000000</td>\n",
       "      <td>7385.000000</td>\n",
       "      <td>7385.000000</td>\n",
       "      <td>7385.000000</td>\n",
       "      <td>7385.000000</td>\n",
       "      <td>7385.000000</td>\n",
       "    </tr>\n",
       "    <tr>\n",
       "      <th>mean</th>\n",
       "      <td>3.160068</td>\n",
       "      <td>5.615030</td>\n",
       "      <td>12.556534</td>\n",
       "      <td>9.041706</td>\n",
       "      <td>10.975071</td>\n",
       "      <td>27.481652</td>\n",
       "      <td>250.584699</td>\n",
       "    </tr>\n",
       "    <tr>\n",
       "      <th>std</th>\n",
       "      <td>1.354170</td>\n",
       "      <td>1.828307</td>\n",
       "      <td>3.500274</td>\n",
       "      <td>2.224456</td>\n",
       "      <td>2.892506</td>\n",
       "      <td>7.231879</td>\n",
       "      <td>58.512679</td>\n",
       "    </tr>\n",
       "    <tr>\n",
       "      <th>min</th>\n",
       "      <td>0.900000</td>\n",
       "      <td>3.000000</td>\n",
       "      <td>4.200000</td>\n",
       "      <td>4.000000</td>\n",
       "      <td>4.100000</td>\n",
       "      <td>11.000000</td>\n",
       "      <td>96.000000</td>\n",
       "    </tr>\n",
       "    <tr>\n",
       "      <th>25%</th>\n",
       "      <td>2.000000</td>\n",
       "      <td>4.000000</td>\n",
       "      <td>10.100000</td>\n",
       "      <td>7.500000</td>\n",
       "      <td>8.900000</td>\n",
       "      <td>22.000000</td>\n",
       "      <td>208.000000</td>\n",
       "    </tr>\n",
       "    <tr>\n",
       "      <th>50%</th>\n",
       "      <td>3.000000</td>\n",
       "      <td>6.000000</td>\n",
       "      <td>12.100000</td>\n",
       "      <td>8.700000</td>\n",
       "      <td>10.600000</td>\n",
       "      <td>27.000000</td>\n",
       "      <td>246.000000</td>\n",
       "    </tr>\n",
       "    <tr>\n",
       "      <th>75%</th>\n",
       "      <td>3.700000</td>\n",
       "      <td>6.000000</td>\n",
       "      <td>14.600000</td>\n",
       "      <td>10.200000</td>\n",
       "      <td>12.600000</td>\n",
       "      <td>32.000000</td>\n",
       "      <td>288.000000</td>\n",
       "    </tr>\n",
       "    <tr>\n",
       "      <th>max</th>\n",
       "      <td>8.400000</td>\n",
       "      <td>16.000000</td>\n",
       "      <td>30.600000</td>\n",
       "      <td>20.600000</td>\n",
       "      <td>26.100000</td>\n",
       "      <td>69.000000</td>\n",
       "      <td>522.000000</td>\n",
       "    </tr>\n",
       "  </tbody>\n",
       "</table>\n",
       "</div>"
      ],
      "text/plain": [
       "       EngineSize(L)    Cylinders  FuelConsumptionCity(L/100 km)  \\\n",
       "count    7385.000000  7385.000000                    7385.000000   \n",
       "mean        3.160068     5.615030                      12.556534   \n",
       "std         1.354170     1.828307                       3.500274   \n",
       "min         0.900000     3.000000                       4.200000   \n",
       "25%         2.000000     4.000000                      10.100000   \n",
       "50%         3.000000     6.000000                      12.100000   \n",
       "75%         3.700000     6.000000                      14.600000   \n",
       "max         8.400000    16.000000                      30.600000   \n",
       "\n",
       "       FuelConsumptionHwy(L/100 km)  FuelConsumptionComb(L/100 km)  \\\n",
       "count                   7385.000000                    7385.000000   \n",
       "mean                       9.041706                      10.975071   \n",
       "std                        2.224456                       2.892506   \n",
       "min                        4.000000                       4.100000   \n",
       "25%                        7.500000                       8.900000   \n",
       "50%                        8.700000                      10.600000   \n",
       "75%                       10.200000                      12.600000   \n",
       "max                       20.600000                      26.100000   \n",
       "\n",
       "       FuelConsumptionComb(mpg)  CO2Emissions(g/km)  \n",
       "count               7385.000000         7385.000000  \n",
       "mean                  27.481652          250.584699  \n",
       "std                    7.231879           58.512679  \n",
       "min                   11.000000           96.000000  \n",
       "25%                   22.000000          208.000000  \n",
       "50%                   27.000000          246.000000  \n",
       "75%                   32.000000          288.000000  \n",
       "max                   69.000000          522.000000  "
      ]
     },
     "execution_count": 4,
     "metadata": {},
     "output_type": "execute_result"
    }
   ],
   "source": [
    "data.describe()"
   ]
  },
  {
   "cell_type": "markdown",
   "metadata": {},
   "source": [
    "# Finding Missing Values"
   ]
  },
  {
   "cell_type": "code",
   "execution_count": 5,
   "metadata": {},
   "outputs": [
    {
     "name": "stdout",
     "output_type": "stream",
     "text": [
      "<class 'pandas.core.frame.DataFrame'>\n",
      "RangeIndex: 7385 entries, 0 to 7384\n",
      "Data columns (total 11 columns):\n",
      " #   Column                         Non-Null Count  Dtype  \n",
      "---  ------                         --------------  -----  \n",
      " 0   Make                           7385 non-null   object \n",
      " 1   VehicleClass                   7385 non-null   object \n",
      " 2   EngineSize(L)                  7385 non-null   float64\n",
      " 3   Cylinders                      7385 non-null   int64  \n",
      " 4   Transmission                   7385 non-null   object \n",
      " 5   FuelType                       7385 non-null   object \n",
      " 6   FuelConsumptionCity(L/100 km)  7385 non-null   float64\n",
      " 7   FuelConsumptionHwy(L/100 km)   7385 non-null   float64\n",
      " 8   FuelConsumptionComb(L/100 km)  7385 non-null   float64\n",
      " 9   FuelConsumptionComb(mpg)       7385 non-null   int64  \n",
      " 10  CO2Emissions(g/km)             7385 non-null   int64  \n",
      "dtypes: float64(4), int64(3), object(4)\n",
      "memory usage: 634.8+ KB\n"
     ]
    }
   ],
   "source": [
    "data.info()"
   ]
  },
  {
   "cell_type": "markdown",
   "metadata": {},
   "source": [
    "# Encoding the Categorical Attributes of the dataset"
   ]
  },
  {
   "cell_type": "code",
   "execution_count": 6,
   "metadata": {},
   "outputs": [
    {
     "data": {
      "text/plain": [
       "array(['AS5', 'M6', 'AV7', 'AS6', 'AM6', 'A6', 'AM7', 'AV8', 'AS8', 'A7',\n",
       "       'A8', 'M7', 'A4', 'M5', 'AV', 'A5', 'AS7', 'A9', 'AS9', 'AV6',\n",
       "       'AS4', 'AM5', 'AM8', 'AM9', 'AS10', 'A10', 'AV10'], dtype=object)"
      ]
     },
     "execution_count": 6,
     "metadata": {},
     "output_type": "execute_result"
    }
   ],
   "source": [
    "data['Transmission'].unique()"
   ]
  },
  {
   "cell_type": "code",
   "execution_count": 7,
   "metadata": {},
   "outputs": [],
   "source": [
    "# Replacing similar labels with a single label\n",
    "data['Transmission'] = np.where(data['Transmission'].isin(['A4','A5','A6','A7','A8','A9','A10']),\"Automatic\",data['Transmission'])\n",
    "data['Transmission'] = np.where(data['Transmission'].isin([\"AM5\", \"AM6\", \"AM7\", \"AM8\", \"AM9\"]),\"Automated Manual\",data['Transmission'])\n",
    "data['Transmission'] = np.where(data['Transmission'].isin([\"AS4\", \"AS5\", \"AS6\", \"AS7\", \"AS8\", \"AS9\", \"AS10\"]),\"Automatic with Select Shift\",data['Transmission'])\n",
    "data['Transmission'] = np.where(data['Transmission'].isin([\"AV\", \"AV6\", \"AV7\", \"AV8\", \"AV10\"]),\"Continuously Variable\",data['Transmission'])\n",
    "data['Transmission'] = np.where(data['Transmission'].isin([\"M5\", \"M6\", \"M7\"]),\"Manual\",data['Transmission'])"
   ]
  },
  {
   "cell_type": "code",
   "execution_count": 8,
   "metadata": {},
   "outputs": [
    {
     "data": {
      "text/plain": [
       "array(['Automatic with Select Shift', 'Manual', 'Continuously Variable',\n",
       "       'Automated Manual', 'Automatic'], dtype=object)"
      ]
     },
     "execution_count": 8,
     "metadata": {},
     "output_type": "execute_result"
    }
   ],
   "source": [
    "data['Transmission'].unique()"
   ]
  },
  {
   "cell_type": "code",
   "execution_count": 9,
   "metadata": {},
   "outputs": [],
   "source": [
    "Trans = pd.get_dummies(data['Transmission'],drop_first=True)\n",
    "data = data.drop(['Transmission'],axis=1)\n",
    "data = pd.concat([data,Trans],axis=1)"
   ]
  },
  {
   "cell_type": "code",
   "execution_count": 10,
   "metadata": {},
   "outputs": [
    {
     "data": {
      "text/plain": [
       "['Make', 'VehicleClass', 'FuelType']"
      ]
     },
     "execution_count": 10,
     "metadata": {},
     "output_type": "execute_result"
    }
   ],
   "source": [
    "data_with_dummis = data.copy()\n",
    "data_to_dummis = ['Make','VehicleClass','FuelType']\n",
    "perfix_for_data = ['Make','Cls','Fuel']\n",
    "for col, per in zip(data_to_dummis, perfix_for_data):\n",
    "    dummi = pd.get_dummies(data_with_dummis[col], prefix=per, drop_first=True)\n",
    "    data_with_dummis = data_with_dummis.join(dummi)\n",
    "    \n",
    "labels = data_with_dummis['CO2Emissions(g/km)']\n",
    "\n",
    "data_to_drop = data_to_dummis\n",
    "\n",
    "data_to_drop"
   ]
  },
  {
   "cell_type": "code",
   "execution_count": 11,
   "metadata": {},
   "outputs": [
    {
     "data": {
      "text/html": [
       "<div>\n",
       "<style scoped>\n",
       "    .dataframe tbody tr th:only-of-type {\n",
       "        vertical-align: middle;\n",
       "    }\n",
       "\n",
       "    .dataframe tbody tr th {\n",
       "        vertical-align: top;\n",
       "    }\n",
       "\n",
       "    .dataframe thead th {\n",
       "        text-align: right;\n",
       "    }\n",
       "</style>\n",
       "<table border=\"1\" class=\"dataframe\">\n",
       "  <thead>\n",
       "    <tr style=\"text-align: right;\">\n",
       "      <th></th>\n",
       "      <th>EngineSize(L)</th>\n",
       "      <th>Cylinders</th>\n",
       "      <th>FuelConsumptionCity(L/100 km)</th>\n",
       "      <th>FuelConsumptionHwy(L/100 km)</th>\n",
       "      <th>FuelConsumptionComb(L/100 km)</th>\n",
       "      <th>FuelConsumptionComb(mpg)</th>\n",
       "      <th>CO2Emissions(g/km)</th>\n",
       "      <th>Automatic</th>\n",
       "      <th>Automatic with Select Shift</th>\n",
       "      <th>Continuously Variable</th>\n",
       "      <th>...</th>\n",
       "      <th>Cls_SUBCOMPACT</th>\n",
       "      <th>Cls_SUV - SMALL</th>\n",
       "      <th>Cls_SUV - STANDARD</th>\n",
       "      <th>Cls_TWO-SEATER</th>\n",
       "      <th>Cls_VAN - CARGO</th>\n",
       "      <th>Cls_VAN - PASSENGER</th>\n",
       "      <th>Fuel_E</th>\n",
       "      <th>Fuel_N</th>\n",
       "      <th>Fuel_X</th>\n",
       "      <th>Fuel_Z</th>\n",
       "    </tr>\n",
       "  </thead>\n",
       "  <tbody>\n",
       "    <tr>\n",
       "      <th>0</th>\n",
       "      <td>2.0</td>\n",
       "      <td>4</td>\n",
       "      <td>9.9</td>\n",
       "      <td>6.7</td>\n",
       "      <td>8.5</td>\n",
       "      <td>33</td>\n",
       "      <td>196</td>\n",
       "      <td>0</td>\n",
       "      <td>1</td>\n",
       "      <td>0</td>\n",
       "      <td>...</td>\n",
       "      <td>0</td>\n",
       "      <td>0</td>\n",
       "      <td>0</td>\n",
       "      <td>0</td>\n",
       "      <td>0</td>\n",
       "      <td>0</td>\n",
       "      <td>0</td>\n",
       "      <td>0</td>\n",
       "      <td>0</td>\n",
       "      <td>1</td>\n",
       "    </tr>\n",
       "    <tr>\n",
       "      <th>1</th>\n",
       "      <td>2.4</td>\n",
       "      <td>4</td>\n",
       "      <td>11.2</td>\n",
       "      <td>7.7</td>\n",
       "      <td>9.6</td>\n",
       "      <td>29</td>\n",
       "      <td>221</td>\n",
       "      <td>0</td>\n",
       "      <td>0</td>\n",
       "      <td>0</td>\n",
       "      <td>...</td>\n",
       "      <td>0</td>\n",
       "      <td>0</td>\n",
       "      <td>0</td>\n",
       "      <td>0</td>\n",
       "      <td>0</td>\n",
       "      <td>0</td>\n",
       "      <td>0</td>\n",
       "      <td>0</td>\n",
       "      <td>0</td>\n",
       "      <td>1</td>\n",
       "    </tr>\n",
       "    <tr>\n",
       "      <th>2</th>\n",
       "      <td>1.5</td>\n",
       "      <td>4</td>\n",
       "      <td>6.0</td>\n",
       "      <td>5.8</td>\n",
       "      <td>5.9</td>\n",
       "      <td>48</td>\n",
       "      <td>136</td>\n",
       "      <td>0</td>\n",
       "      <td>0</td>\n",
       "      <td>1</td>\n",
       "      <td>...</td>\n",
       "      <td>0</td>\n",
       "      <td>0</td>\n",
       "      <td>0</td>\n",
       "      <td>0</td>\n",
       "      <td>0</td>\n",
       "      <td>0</td>\n",
       "      <td>0</td>\n",
       "      <td>0</td>\n",
       "      <td>0</td>\n",
       "      <td>1</td>\n",
       "    </tr>\n",
       "    <tr>\n",
       "      <th>3</th>\n",
       "      <td>3.5</td>\n",
       "      <td>6</td>\n",
       "      <td>12.7</td>\n",
       "      <td>9.1</td>\n",
       "      <td>11.1</td>\n",
       "      <td>25</td>\n",
       "      <td>255</td>\n",
       "      <td>0</td>\n",
       "      <td>1</td>\n",
       "      <td>0</td>\n",
       "      <td>...</td>\n",
       "      <td>0</td>\n",
       "      <td>1</td>\n",
       "      <td>0</td>\n",
       "      <td>0</td>\n",
       "      <td>0</td>\n",
       "      <td>0</td>\n",
       "      <td>0</td>\n",
       "      <td>0</td>\n",
       "      <td>0</td>\n",
       "      <td>1</td>\n",
       "    </tr>\n",
       "    <tr>\n",
       "      <th>4</th>\n",
       "      <td>3.5</td>\n",
       "      <td>6</td>\n",
       "      <td>12.1</td>\n",
       "      <td>8.7</td>\n",
       "      <td>10.6</td>\n",
       "      <td>27</td>\n",
       "      <td>244</td>\n",
       "      <td>0</td>\n",
       "      <td>1</td>\n",
       "      <td>0</td>\n",
       "      <td>...</td>\n",
       "      <td>0</td>\n",
       "      <td>1</td>\n",
       "      <td>0</td>\n",
       "      <td>0</td>\n",
       "      <td>0</td>\n",
       "      <td>0</td>\n",
       "      <td>0</td>\n",
       "      <td>0</td>\n",
       "      <td>0</td>\n",
       "      <td>1</td>\n",
       "    </tr>\n",
       "  </tbody>\n",
       "</table>\n",
       "<p>5 rows × 71 columns</p>\n",
       "</div>"
      ],
      "text/plain": [
       "   EngineSize(L)  Cylinders  FuelConsumptionCity(L/100 km)  \\\n",
       "0            2.0          4                            9.9   \n",
       "1            2.4          4                           11.2   \n",
       "2            1.5          4                            6.0   \n",
       "3            3.5          6                           12.7   \n",
       "4            3.5          6                           12.1   \n",
       "\n",
       "   FuelConsumptionHwy(L/100 km)  FuelConsumptionComb(L/100 km)  \\\n",
       "0                           6.7                            8.5   \n",
       "1                           7.7                            9.6   \n",
       "2                           5.8                            5.9   \n",
       "3                           9.1                           11.1   \n",
       "4                           8.7                           10.6   \n",
       "\n",
       "   FuelConsumptionComb(mpg)  CO2Emissions(g/km)  Automatic  \\\n",
       "0                        33                 196          0   \n",
       "1                        29                 221          0   \n",
       "2                        48                 136          0   \n",
       "3                        25                 255          0   \n",
       "4                        27                 244          0   \n",
       "\n",
       "   Automatic with Select Shift  Continuously Variable  ...  Cls_SUBCOMPACT  \\\n",
       "0                            1                      0  ...               0   \n",
       "1                            0                      0  ...               0   \n",
       "2                            0                      1  ...               0   \n",
       "3                            1                      0  ...               0   \n",
       "4                            1                      0  ...               0   \n",
       "\n",
       "   Cls_SUV - SMALL  Cls_SUV - STANDARD  Cls_TWO-SEATER  Cls_VAN - CARGO  \\\n",
       "0                0                   0               0                0   \n",
       "1                0                   0               0                0   \n",
       "2                0                   0               0                0   \n",
       "3                1                   0               0                0   \n",
       "4                1                   0               0                0   \n",
       "\n",
       "   Cls_VAN - PASSENGER  Fuel_E  Fuel_N  Fuel_X  Fuel_Z  \n",
       "0                    0       0       0       0       1  \n",
       "1                    0       0       0       0       1  \n",
       "2                    0       0       0       0       1  \n",
       "3                    0       0       0       0       1  \n",
       "4                    0       0       0       0       1  \n",
       "\n",
       "[5 rows x 71 columns]"
      ]
     },
     "execution_count": 11,
     "metadata": {},
     "output_type": "execute_result"
    }
   ],
   "source": [
    "final_data = data_with_dummis.drop(data_to_drop, axis=1)\n",
    "final_data.head()"
   ]
  },
  {
   "cell_type": "code",
   "execution_count": 12,
   "metadata": {},
   "outputs": [
    {
     "name": "stdout",
     "output_type": "stream",
     "text": [
      "<class 'pandas.core.frame.DataFrame'>\n",
      "RangeIndex: 7385 entries, 0 to 7384\n",
      "Data columns (total 71 columns):\n",
      " #   Column                         Non-Null Count  Dtype  \n",
      "---  ------                         --------------  -----  \n",
      " 0   EngineSize(L)                  7385 non-null   float64\n",
      " 1   Cylinders                      7385 non-null   int64  \n",
      " 2   FuelConsumptionCity(L/100 km)  7385 non-null   float64\n",
      " 3   FuelConsumptionHwy(L/100 km)   7385 non-null   float64\n",
      " 4   FuelConsumptionComb(L/100 km)  7385 non-null   float64\n",
      " 5   FuelConsumptionComb(mpg)       7385 non-null   int64  \n",
      " 6   CO2Emissions(g/km)             7385 non-null   int64  \n",
      " 7   Automatic                      7385 non-null   uint8  \n",
      " 8   Automatic with Select Shift    7385 non-null   uint8  \n",
      " 9   Continuously Variable          7385 non-null   uint8  \n",
      " 10  Manual                         7385 non-null   uint8  \n",
      " 11  Make_ALFA ROMEO                7385 non-null   uint8  \n",
      " 12  Make_ASTON MARTIN              7385 non-null   uint8  \n",
      " 13  Make_AUDI                      7385 non-null   uint8  \n",
      " 14  Make_BENTLEY                   7385 non-null   uint8  \n",
      " 15  Make_BMW                       7385 non-null   uint8  \n",
      " 16  Make_BUGATTI                   7385 non-null   uint8  \n",
      " 17  Make_BUICK                     7385 non-null   uint8  \n",
      " 18  Make_CADILLAC                  7385 non-null   uint8  \n",
      " 19  Make_CHEVROLET                 7385 non-null   uint8  \n",
      " 20  Make_CHRYSLER                  7385 non-null   uint8  \n",
      " 21  Make_DODGE                     7385 non-null   uint8  \n",
      " 22  Make_FIAT                      7385 non-null   uint8  \n",
      " 23  Make_FORD                      7385 non-null   uint8  \n",
      " 24  Make_GENESIS                   7385 non-null   uint8  \n",
      " 25  Make_GMC                       7385 non-null   uint8  \n",
      " 26  Make_HONDA                     7385 non-null   uint8  \n",
      " 27  Make_HYUNDAI                   7385 non-null   uint8  \n",
      " 28  Make_INFINITI                  7385 non-null   uint8  \n",
      " 29  Make_JAGUAR                    7385 non-null   uint8  \n",
      " 30  Make_JEEP                      7385 non-null   uint8  \n",
      " 31  Make_KIA                       7385 non-null   uint8  \n",
      " 32  Make_LAMBORGHINI               7385 non-null   uint8  \n",
      " 33  Make_LAND ROVER                7385 non-null   uint8  \n",
      " 34  Make_LEXUS                     7385 non-null   uint8  \n",
      " 35  Make_LINCOLN                   7385 non-null   uint8  \n",
      " 36  Make_MASERATI                  7385 non-null   uint8  \n",
      " 37  Make_MAZDA                     7385 non-null   uint8  \n",
      " 38  Make_MERCEDES-BENZ             7385 non-null   uint8  \n",
      " 39  Make_MINI                      7385 non-null   uint8  \n",
      " 40  Make_MITSUBISHI                7385 non-null   uint8  \n",
      " 41  Make_NISSAN                    7385 non-null   uint8  \n",
      " 42  Make_PORSCHE                   7385 non-null   uint8  \n",
      " 43  Make_RAM                       7385 non-null   uint8  \n",
      " 44  Make_ROLLS-ROYCE               7385 non-null   uint8  \n",
      " 45  Make_SCION                     7385 non-null   uint8  \n",
      " 46  Make_SMART                     7385 non-null   uint8  \n",
      " 47  Make_SRT                       7385 non-null   uint8  \n",
      " 48  Make_SUBARU                    7385 non-null   uint8  \n",
      " 49  Make_TOYOTA                    7385 non-null   uint8  \n",
      " 50  Make_VOLKSWAGEN                7385 non-null   uint8  \n",
      " 51  Make_VOLVO                     7385 non-null   uint8  \n",
      " 52  Cls_FULL-SIZE                  7385 non-null   uint8  \n",
      " 53  Cls_MID-SIZE                   7385 non-null   uint8  \n",
      " 54  Cls_MINICOMPACT                7385 non-null   uint8  \n",
      " 55  Cls_MINIVAN                    7385 non-null   uint8  \n",
      " 56  Cls_PICKUP TRUCK - SMALL       7385 non-null   uint8  \n",
      " 57  Cls_PICKUP TRUCK - STANDARD    7385 non-null   uint8  \n",
      " 58  Cls_SPECIAL PURPOSE VEHICLE    7385 non-null   uint8  \n",
      " 59  Cls_STATION WAGON - MID-SIZE   7385 non-null   uint8  \n",
      " 60  Cls_STATION WAGON - SMALL      7385 non-null   uint8  \n",
      " 61  Cls_SUBCOMPACT                 7385 non-null   uint8  \n",
      " 62  Cls_SUV - SMALL                7385 non-null   uint8  \n",
      " 63  Cls_SUV - STANDARD             7385 non-null   uint8  \n",
      " 64  Cls_TWO-SEATER                 7385 non-null   uint8  \n",
      " 65  Cls_VAN - CARGO                7385 non-null   uint8  \n",
      " 66  Cls_VAN - PASSENGER            7385 non-null   uint8  \n",
      " 67  Fuel_E                         7385 non-null   uint8  \n",
      " 68  Fuel_N                         7385 non-null   uint8  \n",
      " 69  Fuel_X                         7385 non-null   uint8  \n",
      " 70  Fuel_Z                         7385 non-null   uint8  \n",
      "dtypes: float64(4), int64(3), uint8(64)\n",
      "memory usage: 865.6 KB\n"
     ]
    }
   ],
   "source": [
    "final_data.info()"
   ]
  },
  {
   "cell_type": "markdown",
   "metadata": {},
   "source": [
    "# Visualizing the data"
   ]
  },
  {
   "cell_type": "code",
   "execution_count": 49,
   "metadata": {},
   "outputs": [
    {
     "data": {
      "text/plain": [
       "<matplotlib.axes._subplots.AxesSubplot at 0x223838f6dc0>"
      ]
     },
     "execution_count": 49,
     "metadata": {},
     "output_type": "execute_result"
    },
    {
     "data": {
      "image/png": "[encoded data removed]",
      "text/plain": [
       "<Figure size 432x288 with 1 Axes>"
      ]
     },
     "metadata": {
      "needs_background": "light"
     },
     "output_type": "display_data"
    }
   ],
   "source": [
    "# Plot to find the CO2 levels\n",
    "sns.distplot(data['CO2Emissions(g/km)'])"
   ]
  },
  {
   "cell_type": "code",
   "execution_count": 50,
   "metadata": {},
   "outputs": [
    {
     "data": {
      "text/plain": [
       "<matplotlib.axes._subplots.AxesSubplot at 0x22386c1b6d0>"
      ]
     },
     "execution_count": 50,
     "metadata": {},
     "output_type": "execute_result"
    },
    {
     "data": {
      "image/png": "[encoded data removed]",
      "text/plain": [
       "<Figure size 1440x360 with 1 Axes>"
      ]
     },
     "metadata": {
      "needs_background": "light"
     },
     "output_type": "display_data"
    }
   ],
   "source": [
    "# Finding which car make is the most dominant one\n",
    "plt.figure(figsize=(20,5))\n",
    "data.groupby(['Make'])['Make'].count().sort_values(ascending=False).plot(kind='bar')"
   ]
  },
  {
   "cell_type": "code",
   "execution_count": 51,
   "metadata": {},
   "outputs": [
    {
     "data": {
      "text/plain": [
       "<matplotlib.axes._subplots.AxesSubplot at 0x22386c5b670>"
      ]
     },
     "execution_count": 51,
     "metadata": {},
     "output_type": "execute_result"
    },
    {
     "data": {
      "image/png": "[encoded data removed]",
      "text/plain": [
       "<Figure size 1440x360 with 1 Axes>"
      ]
     },
     "metadata": {
      "needs_background": "light"
     },
     "output_type": "display_data"
    }
   ],
   "source": [
    "# Finding the most used vehicle type\n",
    "plt.figure(figsize=(20,5))\n",
    "data.groupby(['VehicleClass'])['VehicleClass'].count().sort_values(ascending=True).plot(kind='bar')\n"
   ]
  },
  {
   "cell_type": "code",
   "execution_count": 52,
   "metadata": {},
   "outputs": [
    {
     "data": {
      "image/png": "[encoded data removed]",
      "text/plain": [
       "<Figure size 864x432 with 1 Axes>"
      ]
     },
     "metadata": {
      "needs_background": "light"
     },
     "output_type": "display_data"
    }
   ],
   "source": [
    "plt.figure(figsize=(12,6))\n",
    "sns.barplot(x = 'Cylinders', y = 'CO2Emissions(g/km)',hue='Cylinders', data=data, palette='cool')\n",
    "plt.show()"
   ]
  },
  {
   "cell_type": "markdown",
   "metadata": {},
   "source": [
    "# Correlation"
   ]
  },
  {
   "cell_type": "code",
   "execution_count": 53,
   "metadata": {},
   "outputs": [
    {
     "data": {
      "text/html": [
       "<div>\n",
       "<style scoped>\n",
       "    .dataframe tbody tr th:only-of-type {\n",
       "        vertical-align: middle;\n",
       "    }\n",
       "\n",
       "    .dataframe tbody tr th {\n",
       "        vertical-align: top;\n",
       "    }\n",
       "\n",
       "    .dataframe thead th {\n",
       "        text-align: right;\n",
       "    }\n",
       "</style>\n",
       "<table border=\"1\" class=\"dataframe\">\n",
       "  <thead>\n",
       "    <tr style=\"text-align: right;\">\n",
       "      <th></th>\n",
       "      <th>EngineSize(L)</th>\n",
       "      <th>Cylinders</th>\n",
       "      <th>FuelConsumptionCity(L/100 km)</th>\n",
       "      <th>FuelConsumptionHwy(L/100 km)</th>\n",
       "      <th>FuelConsumptionComb(L/100 km)</th>\n",
       "      <th>FuelConsumptionComb(mpg)</th>\n",
       "      <th>CO2Emissions(g/km)</th>\n",
       "      <th>Automatic</th>\n",
       "      <th>Automatic with Select Shift</th>\n",
       "      <th>Continuously Variable</th>\n",
       "      <th>Manual</th>\n",
       "    </tr>\n",
       "  </thead>\n",
       "  <tbody>\n",
       "    <tr>\n",
       "      <th>EngineSize(L)</th>\n",
       "      <td>1.000000</td>\n",
       "      <td>0.927653</td>\n",
       "      <td>0.831379</td>\n",
       "      <td>0.761526</td>\n",
       "      <td>0.817060</td>\n",
       "      <td>-0.757854</td>\n",
       "      <td>0.851145</td>\n",
       "      <td>0.294758</td>\n",
       "      <td>0.003070</td>\n",
       "      <td>-0.196299</td>\n",
       "      <td>-0.194094</td>\n",
       "    </tr>\n",
       "    <tr>\n",
       "      <th>Cylinders</th>\n",
       "      <td>0.927653</td>\n",
       "      <td>1.000000</td>\n",
       "      <td>0.800702</td>\n",
       "      <td>0.715252</td>\n",
       "      <td>0.780534</td>\n",
       "      <td>-0.719321</td>\n",
       "      <td>0.832644</td>\n",
       "      <td>0.214928</td>\n",
       "      <td>0.038046</td>\n",
       "      <td>-0.203080</td>\n",
       "      <td>-0.189454</td>\n",
       "    </tr>\n",
       "    <tr>\n",
       "      <th>FuelConsumptionCity(L/100 km)</th>\n",
       "      <td>0.831379</td>\n",
       "      <td>0.800702</td>\n",
       "      <td>1.000000</td>\n",
       "      <td>0.948180</td>\n",
       "      <td>0.993810</td>\n",
       "      <td>-0.927059</td>\n",
       "      <td>0.919592</td>\n",
       "      <td>0.310003</td>\n",
       "      <td>0.045619</td>\n",
       "      <td>-0.331367</td>\n",
       "      <td>-0.164182</td>\n",
       "    </tr>\n",
       "    <tr>\n",
       "      <th>FuelConsumptionHwy(L/100 km)</th>\n",
       "      <td>0.761526</td>\n",
       "      <td>0.715252</td>\n",
       "      <td>0.948180</td>\n",
       "      <td>1.000000</td>\n",
       "      <td>0.977299</td>\n",
       "      <td>-0.890638</td>\n",
       "      <td>0.883536</td>\n",
       "      <td>0.307657</td>\n",
       "      <td>0.026168</td>\n",
       "      <td>-0.253580</td>\n",
       "      <td>-0.192107</td>\n",
       "    </tr>\n",
       "    <tr>\n",
       "      <th>FuelConsumptionComb(L/100 km)</th>\n",
       "      <td>0.817060</td>\n",
       "      <td>0.780534</td>\n",
       "      <td>0.993810</td>\n",
       "      <td>0.977299</td>\n",
       "      <td>1.000000</td>\n",
       "      <td>-0.925576</td>\n",
       "      <td>0.918052</td>\n",
       "      <td>0.313305</td>\n",
       "      <td>0.038493</td>\n",
       "      <td>-0.308181</td>\n",
       "      <td>-0.175614</td>\n",
       "    </tr>\n",
       "    <tr>\n",
       "      <th>FuelConsumptionComb(mpg)</th>\n",
       "      <td>-0.757854</td>\n",
       "      <td>-0.719321</td>\n",
       "      <td>-0.927059</td>\n",
       "      <td>-0.890638</td>\n",
       "      <td>-0.925576</td>\n",
       "      <td>1.000000</td>\n",
       "      <td>-0.907426</td>\n",
       "      <td>-0.299017</td>\n",
       "      <td>-0.096227</td>\n",
       "      <td>0.395611</td>\n",
       "      <td>0.157454</td>\n",
       "    </tr>\n",
       "    <tr>\n",
       "      <th>CO2Emissions(g/km)</th>\n",
       "      <td>0.851145</td>\n",
       "      <td>0.832644</td>\n",
       "      <td>0.919592</td>\n",
       "      <td>0.883536</td>\n",
       "      <td>0.918052</td>\n",
       "      <td>-0.907426</td>\n",
       "      <td>1.000000</td>\n",
       "      <td>0.267254</td>\n",
       "      <td>0.070422</td>\n",
       "      <td>-0.329452</td>\n",
       "      <td>-0.166170</td>\n",
       "    </tr>\n",
       "    <tr>\n",
       "      <th>Automatic</th>\n",
       "      <td>0.294758</td>\n",
       "      <td>0.214928</td>\n",
       "      <td>0.310003</td>\n",
       "      <td>0.307657</td>\n",
       "      <td>0.313305</td>\n",
       "      <td>-0.299017</td>\n",
       "      <td>0.267254</td>\n",
       "      <td>1.000000</td>\n",
       "      <td>-0.495615</td>\n",
       "      <td>-0.168211</td>\n",
       "      <td>-0.252841</td>\n",
       "    </tr>\n",
       "    <tr>\n",
       "      <th>Automatic with Select Shift</th>\n",
       "      <td>0.003070</td>\n",
       "      <td>0.038046</td>\n",
       "      <td>0.045619</td>\n",
       "      <td>0.026168</td>\n",
       "      <td>0.038493</td>\n",
       "      <td>-0.096227</td>\n",
       "      <td>0.070422</td>\n",
       "      <td>-0.495615</td>\n",
       "      <td>1.000000</td>\n",
       "      <td>-0.249247</td>\n",
       "      <td>-0.374649</td>\n",
       "    </tr>\n",
       "    <tr>\n",
       "      <th>Continuously Variable</th>\n",
       "      <td>-0.196299</td>\n",
       "      <td>-0.203080</td>\n",
       "      <td>-0.331367</td>\n",
       "      <td>-0.253580</td>\n",
       "      <td>-0.308181</td>\n",
       "      <td>0.395611</td>\n",
       "      <td>-0.329452</td>\n",
       "      <td>-0.168211</td>\n",
       "      <td>-0.249247</td>\n",
       "      <td>1.000000</td>\n",
       "      <td>-0.127155</td>\n",
       "    </tr>\n",
       "    <tr>\n",
       "      <th>Manual</th>\n",
       "      <td>-0.194094</td>\n",
       "      <td>-0.189454</td>\n",
       "      <td>-0.164182</td>\n",
       "      <td>-0.192107</td>\n",
       "      <td>-0.175614</td>\n",
       "      <td>0.157454</td>\n",
       "      <td>-0.166170</td>\n",
       "      <td>-0.252841</td>\n",
       "      <td>-0.374649</td>\n",
       "      <td>-0.127155</td>\n",
       "      <td>1.000000</td>\n",
       "    </tr>\n",
       "  </tbody>\n",
       "</table>\n",
       "</div>"
      ],
      "text/plain": [
       "                               EngineSize(L)  Cylinders  \\\n",
       "EngineSize(L)                       1.000000   0.927653   \n",
       "Cylinders                           0.927653   1.000000   \n",
       "FuelConsumptionCity(L/100 km)       0.831379   0.800702   \n",
       "FuelConsumptionHwy(L/100 km)        0.761526   0.715252   \n",
       "FuelConsumptionComb(L/100 km)       0.817060   0.780534   \n",
       "FuelConsumptionComb(mpg)           -0.757854  -0.719321   \n",
       "CO2Emissions(g/km)                  0.851145   0.832644   \n",
       "Automatic                           0.294758   0.214928   \n",
       "Automatic with Select Shift         0.003070   0.038046   \n",
       "Continuously Variable              -0.196299  -0.203080   \n",
       "Manual                             -0.194094  -0.189454   \n",
       "\n",
       "                               FuelConsumptionCity(L/100 km)  \\\n",
       "EngineSize(L)                                       0.831379   \n",
       "Cylinders                                           0.800702   \n",
       "FuelConsumptionCity(L/100 km)                       1.000000   \n",
       "FuelConsumptionHwy(L/100 km)                        0.948180   \n",
       "FuelConsumptionComb(L/100 km)                       0.993810   \n",
       "FuelConsumptionComb(mpg)                           -0.927059   \n",
       "CO2Emissions(g/km)                                  0.919592   \n",
       "Automatic                                           0.310003   \n",
       "Automatic with Select Shift                         0.045619   \n",
       "Continuously Variable                              -0.331367   \n",
       "Manual                                             -0.164182   \n",
       "\n",
       "                               FuelConsumptionHwy(L/100 km)  \\\n",
       "EngineSize(L)                                      0.761526   \n",
       "Cylinders                                          0.715252   \n",
       "FuelConsumptionCity(L/100 km)                      0.948180   \n",
       "FuelConsumptionHwy(L/100 km)                       1.000000   \n",
       "FuelConsumptionComb(L/100 km)                      0.977299   \n",
       "FuelConsumptionComb(mpg)                          -0.890638   \n",
       "CO2Emissions(g/km)                                 0.883536   \n",
       "Automatic                                          0.307657   \n",
       "Automatic with Select Shift                        0.026168   \n",
       "Continuously Variable                             -0.253580   \n",
       "Manual                                            -0.192107   \n",
       "\n",
       "                               FuelConsumptionComb(L/100 km)  \\\n",
       "EngineSize(L)                                       0.817060   \n",
       "Cylinders                                           0.780534   \n",
       "FuelConsumptionCity(L/100 km)                       0.993810   \n",
       "FuelConsumptionHwy(L/100 km)                        0.977299   \n",
       "FuelConsumptionComb(L/100 km)                       1.000000   \n",
       "FuelConsumptionComb(mpg)                           -0.925576   \n",
       "CO2Emissions(g/km)                                  0.918052   \n",
       "Automatic                                           0.313305   \n",
       "Automatic with Select Shift                         0.038493   \n",
       "Continuously Variable                              -0.308181   \n",
       "Manual                                             -0.175614   \n",
       "\n",
       "                               FuelConsumptionComb(mpg)  CO2Emissions(g/km)  \\\n",
       "EngineSize(L)                                 -0.757854            0.851145   \n",
       "Cylinders                                     -0.719321            0.832644   \n",
       "FuelConsumptionCity(L/100 km)                 -0.927059            0.919592   \n",
       "FuelConsumptionHwy(L/100 km)                  -0.890638            0.883536   \n",
       "FuelConsumptionComb(L/100 km)                 -0.925576            0.918052   \n",
       "FuelConsumptionComb(mpg)                       1.000000           -0.907426   \n",
       "CO2Emissions(g/km)                            -0.907426            1.000000   \n",
       "Automatic                                     -0.299017            0.267254   \n",
       "Automatic with Select Shift                   -0.096227            0.070422   \n",
       "Continuously Variable                          0.395611           -0.329452   \n",
       "Manual                                         0.157454           -0.166170   \n",
       "\n",
       "                               Automatic  Automatic with Select Shift  \\\n",
       "EngineSize(L)                   0.294758                     0.003070   \n",
       "Cylinders                       0.214928                     0.038046   \n",
       "FuelConsumptionCity(L/100 km)   0.310003                     0.045619   \n",
       "FuelConsumptionHwy(L/100 km)    0.307657                     0.026168   \n",
       "FuelConsumptionComb(L/100 km)   0.313305                     0.038493   \n",
       "FuelConsumptionComb(mpg)       -0.299017                    -0.096227   \n",
       "CO2Emissions(g/km)              0.267254                     0.070422   \n",
       "Automatic                       1.000000                    -0.495615   \n",
       "Automatic with Select Shift    -0.495615                     1.000000   \n",
       "Continuously Variable          -0.168211                    -0.249247   \n",
       "Manual                         -0.252841                    -0.374649   \n",
       "\n",
       "                               Continuously Variable    Manual  \n",
       "EngineSize(L)                              -0.196299 -0.194094  \n",
       "Cylinders                                  -0.203080 -0.189454  \n",
       "FuelConsumptionCity(L/100 km)              -0.331367 -0.164182  \n",
       "FuelConsumptionHwy(L/100 km)               -0.253580 -0.192107  \n",
       "FuelConsumptionComb(L/100 km)              -0.308181 -0.175614  \n",
       "FuelConsumptionComb(mpg)                    0.395611  0.157454  \n",
       "CO2Emissions(g/km)                         -0.329452 -0.166170  \n",
       "Automatic                                  -0.168211 -0.252841  \n",
       "Automatic with Select Shift                -0.249247 -0.374649  \n",
       "Continuously Variable                       1.000000 -0.127155  \n",
       "Manual                                     -0.127155  1.000000  "
      ]
     },
     "execution_count": 53,
     "metadata": {},
     "output_type": "execute_result"
    }
   ],
   "source": [
    "data.corr()"
   ]
  },
  {
   "cell_type": "markdown",
   "metadata": {},
   "source": [
    "# Correlation Heatmap"
   ]
  },
  {
   "cell_type": "code",
   "execution_count": 54,
   "metadata": {},
   "outputs": [
    {
     "data": {
      "image/png": "[encoded data removed]",
      "text/plain": [
       "<Figure size 864x576 with 2 Axes>"
      ]
     },
     "metadata": {
      "needs_background": "light"
     },
     "output_type": "display_data"
    }
   ],
   "source": [
    "#Heatmap to see correlation between variables\n",
    "plt.figure(figsize=(12, 8))\n",
    "sns.heatmap(data.corr(), cmap='RdYlGn', annot = True)\n",
    "plt.title(\"Correlation between Variables\")\n",
    "plt.show()"
   ]
  },
  {
   "cell_type": "markdown",
   "metadata": {},
   "source": [
    "# Splitting the data into X and y"
   ]
  },
  {
   "cell_type": "code",
   "execution_count": 13,
   "metadata": {},
   "outputs": [],
   "source": [
    "X = final_data.drop([\"CO2Emissions(g/km)\"], axis =1)\n",
    "y = final_data['CO2Emissions(g/km)']"
   ]
  },
  {
   "cell_type": "code",
   "execution_count": 14,
   "metadata": {},
   "outputs": [
    {
     "data": {
      "text/html": [
       "<div>\n",
       "<style scoped>\n",
       "    .dataframe tbody tr th:only-of-type {\n",
       "        vertical-align: middle;\n",
       "    }\n",
       "\n",
       "    .dataframe tbody tr th {\n",
       "        vertical-align: top;\n",
       "    }\n",
       "\n",
       "    .dataframe thead th {\n",
       "        text-align: right;\n",
       "    }\n",
       "</style>\n",
       "<table border=\"1\" class=\"dataframe\">\n",
       "  <thead>\n",
       "    <tr style=\"text-align: right;\">\n",
       "      <th></th>\n",
       "      <th>EngineSize(L)</th>\n",
       "      <th>Cylinders</th>\n",
       "      <th>FuelConsumptionCity(L/100 km)</th>\n",
       "      <th>FuelConsumptionHwy(L/100 km)</th>\n",
       "      <th>FuelConsumptionComb(L/100 km)</th>\n",
       "      <th>FuelConsumptionComb(mpg)</th>\n",
       "      <th>Automatic</th>\n",
       "      <th>Automatic with Select Shift</th>\n",
       "      <th>Continuously Variable</th>\n",
       "      <th>Manual</th>\n",
       "      <th>...</th>\n",
       "      <th>Cls_SUBCOMPACT</th>\n",
       "      <th>Cls_SUV - SMALL</th>\n",
       "      <th>Cls_SUV - STANDARD</th>\n",
       "      <th>Cls_TWO-SEATER</th>\n",
       "      <th>Cls_VAN - CARGO</th>\n",
       "      <th>Cls_VAN - PASSENGER</th>\n",
       "      <th>Fuel_E</th>\n",
       "      <th>Fuel_N</th>\n",
       "      <th>Fuel_X</th>\n",
       "      <th>Fuel_Z</th>\n",
       "    </tr>\n",
       "  </thead>\n",
       "  <tbody>\n",
       "    <tr>\n",
       "      <th>0</th>\n",
       "      <td>2.0</td>\n",
       "      <td>4</td>\n",
       "      <td>9.9</td>\n",
       "      <td>6.7</td>\n",
       "      <td>8.5</td>\n",
       "      <td>33</td>\n",
       "      <td>0</td>\n",
       "      <td>1</td>\n",
       "      <td>0</td>\n",
       "      <td>0</td>\n",
       "      <td>...</td>\n",
       "      <td>0</td>\n",
       "      <td>0</td>\n",
       "      <td>0</td>\n",
       "      <td>0</td>\n",
       "      <td>0</td>\n",
       "      <td>0</td>\n",
       "      <td>0</td>\n",
       "      <td>0</td>\n",
       "      <td>0</td>\n",
       "      <td>1</td>\n",
       "    </tr>\n",
       "    <tr>\n",
       "      <th>1</th>\n",
       "      <td>2.4</td>\n",
       "      <td>4</td>\n",
       "      <td>11.2</td>\n",
       "      <td>7.7</td>\n",
       "      <td>9.6</td>\n",
       "      <td>29</td>\n",
       "      <td>0</td>\n",
       "      <td>0</td>\n",
       "      <td>0</td>\n",
       "      <td>1</td>\n",
       "      <td>...</td>\n",
       "      <td>0</td>\n",
       "      <td>0</td>\n",
       "      <td>0</td>\n",
       "      <td>0</td>\n",
       "      <td>0</td>\n",
       "      <td>0</td>\n",
       "      <td>0</td>\n",
       "      <td>0</td>\n",
       "      <td>0</td>\n",
       "      <td>1</td>\n",
       "    </tr>\n",
       "    <tr>\n",
       "      <th>2</th>\n",
       "      <td>1.5</td>\n",
       "      <td>4</td>\n",
       "      <td>6.0</td>\n",
       "      <td>5.8</td>\n",
       "      <td>5.9</td>\n",
       "      <td>48</td>\n",
       "      <td>0</td>\n",
       "      <td>0</td>\n",
       "      <td>1</td>\n",
       "      <td>0</td>\n",
       "      <td>...</td>\n",
       "      <td>0</td>\n",
       "      <td>0</td>\n",
       "      <td>0</td>\n",
       "      <td>0</td>\n",
       "      <td>0</td>\n",
       "      <td>0</td>\n",
       "      <td>0</td>\n",
       "      <td>0</td>\n",
       "      <td>0</td>\n",
       "      <td>1</td>\n",
       "    </tr>\n",
       "    <tr>\n",
       "      <th>3</th>\n",
       "      <td>3.5</td>\n",
       "      <td>6</td>\n",
       "      <td>12.7</td>\n",
       "      <td>9.1</td>\n",
       "      <td>11.1</td>\n",
       "      <td>25</td>\n",
       "      <td>0</td>\n",
       "      <td>1</td>\n",
       "      <td>0</td>\n",
       "      <td>0</td>\n",
       "      <td>...</td>\n",
       "      <td>0</td>\n",
       "      <td>1</td>\n",
       "      <td>0</td>\n",
       "      <td>0</td>\n",
       "      <td>0</td>\n",
       "      <td>0</td>\n",
       "      <td>0</td>\n",
       "      <td>0</td>\n",
       "      <td>0</td>\n",
       "      <td>1</td>\n",
       "    </tr>\n",
       "    <tr>\n",
       "      <th>4</th>\n",
       "      <td>3.5</td>\n",
       "      <td>6</td>\n",
       "      <td>12.1</td>\n",
       "      <td>8.7</td>\n",
       "      <td>10.6</td>\n",
       "      <td>27</td>\n",
       "      <td>0</td>\n",
       "      <td>1</td>\n",
       "      <td>0</td>\n",
       "      <td>0</td>\n",
       "      <td>...</td>\n",
       "      <td>0</td>\n",
       "      <td>1</td>\n",
       "      <td>0</td>\n",
       "      <td>0</td>\n",
       "      <td>0</td>\n",
       "      <td>0</td>\n",
       "      <td>0</td>\n",
       "      <td>0</td>\n",
       "      <td>0</td>\n",
       "      <td>1</td>\n",
       "    </tr>\n",
       "  </tbody>\n",
       "</table>\n",
       "<p>5 rows × 70 columns</p>\n",
       "</div>"
      ],
      "text/plain": [
       "   EngineSize(L)  Cylinders  FuelConsumptionCity(L/100 km)  \\\n",
       "0            2.0          4                            9.9   \n",
       "1            2.4          4                           11.2   \n",
       "2            1.5          4                            6.0   \n",
       "3            3.5          6                           12.7   \n",
       "4            3.5          6                           12.1   \n",
       "\n",
       "   FuelConsumptionHwy(L/100 km)  FuelConsumptionComb(L/100 km)  \\\n",
       "0                           6.7                            8.5   \n",
       "1                           7.7                            9.6   \n",
       "2                           5.8                            5.9   \n",
       "3                           9.1                           11.1   \n",
       "4                           8.7                           10.6   \n",
       "\n",
       "   FuelConsumptionComb(mpg)  Automatic  Automatic with Select Shift  \\\n",
       "0                        33          0                            1   \n",
       "1                        29          0                            0   \n",
       "2                        48          0                            0   \n",
       "3                        25          0                            1   \n",
       "4                        27          0                            1   \n",
       "\n",
       "   Continuously Variable  Manual  ...  Cls_SUBCOMPACT  Cls_SUV - SMALL  \\\n",
       "0                      0       0  ...               0                0   \n",
       "1                      0       1  ...               0                0   \n",
       "2                      1       0  ...               0                0   \n",
       "3                      0       0  ...               0                1   \n",
       "4                      0       0  ...               0                1   \n",
       "\n",
       "   Cls_SUV - STANDARD  Cls_TWO-SEATER  Cls_VAN - CARGO  Cls_VAN - PASSENGER  \\\n",
       "0                   0               0                0                    0   \n",
       "1                   0               0                0                    0   \n",
       "2                   0               0                0                    0   \n",
       "3                   0               0                0                    0   \n",
       "4                   0               0                0                    0   \n",
       "\n",
       "   Fuel_E  Fuel_N  Fuel_X  Fuel_Z  \n",
       "0       0       0       0       1  \n",
       "1       0       0       0       1  \n",
       "2       0       0       0       1  \n",
       "3       0       0       0       1  \n",
       "4       0       0       0       1  \n",
       "\n",
       "[5 rows x 70 columns]"
      ]
     },
     "execution_count": 14,
     "metadata": {},
     "output_type": "execute_result"
    }
   ],
   "source": [
    "X.head()"
   ]
  },
  {
   "cell_type": "code",
   "execution_count": 15,
   "metadata": {},
   "outputs": [
    {
     "data": {
      "text/plain": [
       "0    196\n",
       "1    221\n",
       "2    136\n",
       "3    255\n",
       "4    244\n",
       "Name: CO2Emissions(g/km), dtype: int64"
      ]
     },
     "execution_count": 15,
     "metadata": {},
     "output_type": "execute_result"
    }
   ],
   "source": [
    "y.head()"
   ]
  },
  {
   "cell_type": "code",
   "execution_count": 16,
   "metadata": {},
   "outputs": [
    {
     "name": "stdout",
     "output_type": "stream",
     "text": [
      "                            OLS Regression Results                            \n",
      "==============================================================================\n",
      "Dep. Variable:     CO2Emissions(g/km)   R-squared:                       0.994\n",
      "Model:                            OLS   Adj. R-squared:                  0.994\n",
      "Method:                 Least Squares   F-statistic:                 1.630e+04\n",
      "Date:                Thu, 28 Jan 2021   Prob (F-statistic):               0.00\n",
      "Time:                        17:27:25   Log-Likelihood:                -21860.\n",
      "No. Observations:                7385   AIC:                         4.386e+04\n",
      "Df Residuals:                    7314   BIC:                         4.435e+04\n",
      "Df Model:                          70                                         \n",
      "Covariance Type:            nonrobust                                         \n",
      "=================================================================================================\n",
      "                                    coef    std err          t      P>|t|      [0.025      0.975]\n",
      "-------------------------------------------------------------------------------------------------\n",
      "const                            84.1373      1.717     48.998      0.000      80.771      87.503\n",
      "EngineSize(L)                     0.4400      0.158      2.793      0.005       0.131       0.749\n",
      "Cylinders                         0.8872      0.113      7.866      0.000       0.666       1.108\n",
      "FuelConsumptionCity(L/100 km)     6.2024      0.721      8.600      0.000       4.789       7.616\n",
      "FuelConsumptionHwy(L/100 km)      5.5441      0.603      9.195      0.000       4.362       6.726\n",
      "FuelConsumptionComb(L/100 km)     8.0620      1.308      6.161      0.000       5.497      10.627\n",
      "FuelConsumptionComb(mpg)         -0.8770      0.028    -31.871      0.000      -0.931      -0.823\n",
      "Automatic                        -1.6846      0.296     -5.697      0.000      -2.264      -1.105\n",
      "Automatic with Select Shift      -1.2487      0.263     -4.756      0.000      -1.763      -0.734\n",
      "Continuously Variable            -0.8580      0.360     -2.383      0.017      -1.564      -0.152\n",
      "Manual                           -1.3278      0.266     -4.985      0.000      -1.850      -0.806\n",
      "Make_ALFA ROMEO                   3.0549      1.042      2.931      0.003       1.012       5.098\n",
      "Make_ASTON MARTIN                 4.6313      0.963      4.811      0.000       2.744       6.518\n",
      "Make_AUDI                         1.5715      0.640      2.455      0.014       0.317       2.826\n",
      "Make_BENTLEY                      7.5258      0.959      7.844      0.000       5.645       9.407\n",
      "Make_BMW                          1.5055      0.608      2.477      0.013       0.314       2.697\n",
      "Make_BUGATTI                     23.2832      2.890      8.057      0.000      17.618      28.948\n",
      "Make_BUICK                        3.3672      0.752      4.477      0.000       1.893       4.842\n",
      "Make_CADILLAC                     2.6829      0.692      3.877      0.000       1.327       4.039\n",
      "Make_CHEVROLET                    3.7922      0.636      5.961      0.000       2.545       5.039\n",
      "Make_CHRYSLER                     6.8617      0.826      8.310      0.000       5.243       8.480\n",
      "Make_DODGE                        5.2243      0.697      7.499      0.000       3.859       6.590\n",
      "Make_FIAT                         3.5537      0.867      4.101      0.000       1.855       5.253\n",
      "Make_FORD                         5.4099      0.643      8.409      0.000       4.149       6.671\n",
      "Make_GENESIS                      6.0792      1.113      5.461      0.000       3.897       8.261\n",
      "Make_GMC                          3.3576      0.682      4.925      0.000       2.021       4.694\n",
      "Make_HONDA                        2.9995      0.693      4.327      0.000       1.641       4.358\n",
      "Make_HYUNDAI                      4.5831      0.682      6.715      0.000       3.245       5.921\n",
      "Make_INFINITI                     1.5545      0.726      2.142      0.032       0.132       2.977\n",
      "Make_JAGUAR                       2.0456      0.700      2.924      0.003       0.674       3.417\n",
      "Make_JEEP                         4.8915      0.686      7.128      0.000       3.546       6.237\n",
      "Make_KIA                          4.4516      0.680      6.551      0.000       3.120       5.784\n",
      "Make_LAMBORGHINI                  8.2316      1.040      7.917      0.000       6.193      10.270\n",
      "Make_LAND ROVER                   1.0035      0.780      1.287      0.198      -0.525       2.532\n",
      "Make_LEXUS                        1.1869      0.672      1.767      0.077      -0.130       2.504\n",
      "Make_LINCOLN                      4.9975      0.785      6.362      0.000       3.458       6.537\n",
      "Make_MASERATI                     6.3353      0.863      7.337      0.000       4.643       8.028\n",
      "Make_MAZDA                        2.6454      0.695      3.809      0.000       1.284       4.007\n",
      "Make_MERCEDES-BENZ                2.4214      0.622      3.891      0.000       1.202       3.641\n",
      "Make_MINI                         1.7418      0.672      2.590      0.010       0.424       3.060\n",
      "Make_MITSUBISHI                   1.8465      0.779      2.370      0.018       0.319       3.374\n",
      "Make_NISSAN                       3.1063      0.673      4.613      0.000       1.786       4.426\n",
      "Make_PORSCHE                      1.2605      0.651      1.936      0.053      -0.016       2.537\n",
      "Make_RAM                          4.8311      0.825      5.856      0.000       3.214       6.448\n",
      "Make_ROLLS-ROYCE                  7.1299      0.956      7.462      0.000       5.257       9.003\n",
      "Make_SCION                        1.3363      1.175      1.138      0.255      -0.966       3.639\n",
      "Make_SMART                       -0.0864      1.893     -0.046      0.964      -3.798       3.625\n",
      "Make_SRT                          5.1298      3.400      1.509      0.131      -1.536      11.795\n",
      "Make_SUBARU                       2.3219      0.726      3.197      0.001       0.898       3.746\n",
      "Make_TOYOTA                       3.6268      0.660      5.492      0.000       2.332       4.921\n",
      "Make_VOLKSWAGEN                   1.9257      0.676      2.851      0.004       0.601       3.250\n",
      "Make_VOLVO                        1.7323      0.723      2.395      0.017       0.314       3.150\n",
      "Cls_FULL-SIZE                     0.4283      0.270      1.588      0.112      -0.100       0.957\n",
      "Cls_MID-SIZE                     -0.1776      0.217     -0.818      0.413      -0.603       0.248\n",
      "Cls_MINICOMPACT                  -1.0968      0.387     -2.837      0.005      -1.855      -0.339\n",
      "Cls_MINIVAN                      -0.2285      0.581     -0.393      0.694      -1.368       0.911\n",
      "Cls_PICKUP TRUCK - SMALL          3.1426      0.491      6.406      0.000       2.181       4.104\n",
      "Cls_PICKUP TRUCK - STANDARD       1.3405      0.394      3.404      0.001       0.569       2.112\n",
      "Cls_SPECIAL PURPOSE VEHICLE       1.8372      0.600      3.062      0.002       0.661       3.013\n",
      "Cls_STATION WAGON - MID-SIZE     -0.2042      0.678     -0.301      0.763      -1.534       1.126\n",
      "Cls_STATION WAGON - SMALL         0.0049      0.345      0.014      0.989      -0.672       0.682\n",
      "Cls_SUBCOMPACT                   -0.4462      0.257     -1.738      0.082      -0.949       0.057\n",
      "Cls_SUV - SMALL                   0.1963      0.246      0.798      0.425      -0.286       0.678\n",
      "Cls_SUV - STANDARD                1.5998      0.311      5.138      0.000       0.989       2.210\n",
      "Cls_TWO-SEATER                    0.0975      0.315      0.310      0.757      -0.519       0.714\n",
      "Cls_VAN - CARGO                 -10.8380      1.129     -9.599      0.000     -13.051      -8.625\n",
      "Cls_VAN - PASSENGER              -2.3458      0.778     -3.014      0.003      -3.871      -0.820\n",
      "Fuel_E                         -137.4682      0.588   -233.623      0.000    -138.622    -136.315\n",
      "Fuel_N                         -110.4483      4.722    -23.392      0.000    -119.704    -101.193\n",
      "Fuel_X                          -30.5876      0.397    -76.992      0.000     -31.366     -29.809\n",
      "Fuel_Z                          -29.0641      0.420    -69.137      0.000     -29.888     -28.240\n",
      "==============================================================================\n",
      "Omnibus:                     1767.612   Durbin-Watson:                   1.712\n",
      "Prob(Omnibus):                  0.000   Jarque-Bera (JB):           101647.237\n",
      "Skew:                          -0.156   Prob(JB):                         0.00\n",
      "Kurtosis:                      21.172   Cond. No.                     2.96e+03\n",
      "==============================================================================\n",
      "\n",
      "Warnings:\n",
      "[1] Standard Errors assume that the covariance matrix of the errors is correctly specified.\n",
      "[2] The condition number is large, 2.96e+03. This might indicate that there are\n",
      "strong multicollinearity or other numerical problems.\n"
     ]
    }
   ],
   "source": [
    "#backward feature elimination\n",
    "import statsmodels.api as sm\n",
    "X2 = sm.add_constant(X)\n",
    "ols = sm.OLS(y,X2)\n",
    "lr = ols.fit()\n",
    "print(lr.summary())"
   ]
  },
  {
   "cell_type": "code",
   "execution_count": 17,
   "metadata": {},
   "outputs": [
    {
     "name": "stdout",
     "output_type": "stream",
     "text": [
      "                            OLS Regression Results                            \n",
      "==============================================================================\n",
      "Dep. Variable:     CO2Emissions(g/km)   R-squared:                       0.994\n",
      "Model:                            OLS   Adj. R-squared:                  0.994\n",
      "Method:                 Least Squares   F-statistic:                 2.426e+04\n",
      "Date:                Thu, 28 Jan 2021   Prob (F-statistic):               0.00\n",
      "Time:                        17:27:26   Log-Likelihood:                -21874.\n",
      "No. Observations:                7385   AIC:                         4.384e+04\n",
      "Df Residuals:                    7337   BIC:                         4.418e+04\n",
      "Df Model:                          47                                         \n",
      "Covariance Type:            nonrobust                                         \n",
      "=================================================================================================\n",
      "                                    coef    std err          t      P>|t|      [0.025      0.975]\n",
      "-------------------------------------------------------------------------------------------------\n",
      "const                            85.5606      1.599     53.502      0.000      82.426      88.696\n",
      "EngineSize(L)                     0.3832      0.148      2.590      0.010       0.093       0.673\n",
      "Cylinders                         0.8373      0.107      7.842      0.000       0.628       1.047\n",
      "FuelConsumptionCity(L/100 km)     6.2206      0.716      8.693      0.000       4.818       7.623\n",
      "FuelConsumptionHwy(L/100 km)      5.5076      0.592      9.309      0.000       4.348       6.667\n",
      "FuelConsumptionComb(L/100 km)     8.1300      1.295      6.279      0.000       5.592      10.668\n",
      "FuelConsumptionComb(mpg)         -0.8836      0.026    -33.524      0.000      -0.935      -0.832\n",
      "Automatic                        -1.2495      0.244     -5.125      0.000      -1.727      -0.772\n",
      "Automatic with Select Shift      -0.9083      0.192     -4.727      0.000      -1.285      -0.532\n",
      "Manual                           -0.9201      0.212     -4.335      0.000      -1.336      -0.504\n",
      "Make_ASTON MARTIN                 3.1648      0.747      4.237      0.000       1.701       4.629\n",
      "Make_BENTLEY                      5.8780      0.754      7.800      0.000       4.401       7.355\n",
      "Make_BUGATTI                     22.0998      2.810      7.865      0.000      16.591      27.608\n",
      "Make_BUICK                        1.6547      0.486      3.405      0.001       0.702       2.607\n",
      "Make_CADILLAC                     0.9871      0.398      2.480      0.013       0.207       1.767\n",
      "Make_CHEVROLET                    2.1123      0.273      7.749      0.000       1.578       2.647\n",
      "Make_CHRYSLER                     4.9851      0.577      8.646      0.000       3.855       6.115\n",
      "Make_DODGE                        3.4170      0.390      8.761      0.000       2.652       4.181\n",
      "Make_FIAT                         1.8664      0.607      3.076      0.002       0.677       3.056\n",
      "Make_FORD                         3.7309      0.274     13.622      0.000       3.194       4.268\n",
      "Make_GENESIS                      4.3995      0.958      4.592      0.000       2.521       6.278\n",
      "Make_GMC                          1.6990      0.366      4.639      0.000       0.981       2.417\n",
      "Make_HONDA                        1.1120      0.365      3.048      0.002       0.397       1.827\n",
      "Make_HYUNDAI                      2.9826      0.369      8.078      0.000       2.259       3.706\n",
      "Make_JEEP                         3.2399      0.367      8.830      0.000       2.521       3.959\n",
      "Make_KIA                          2.7793      0.356      7.802      0.000       2.081       3.478\n",
      "Make_LAMBORGHINI                  6.9688      0.827      8.425      0.000       5.347       8.590\n",
      "Make_LINCOLN                      3.2244      0.520      6.206      0.000       2.206       4.243\n",
      "Make_MASERATI                     4.5671      0.630      7.247      0.000       3.332       5.802\n",
      "Make_MAZDA                        1.0228      0.398      2.571      0.010       0.243       1.803\n",
      "Make_MERCEDES-BENZ                0.8687      0.268      3.246      0.001       0.344       1.393\n",
      "Make_NISSAN                       1.2187      0.331      3.678      0.000       0.569       1.868\n",
      "Make_RAM                          3.0573      0.579      5.279      0.000       1.922       4.193\n",
      "Make_ROLLS-ROYCE                  5.5273      0.752      7.354      0.000       4.054       7.001\n",
      "Make_TOYOTA                       1.8893      0.324      5.830      0.000       1.254       2.525\n",
      "Cls_FULL-SIZE                     0.4836      0.223      2.172      0.030       0.047       0.920\n",
      "Cls_MINICOMPACT                  -1.0907      0.299     -3.654      0.000      -1.676      -0.505\n",
      "Cls_PICKUP TRUCK - SMALL          2.9964      0.442      6.785      0.000       2.131       3.862\n",
      "Cls_PICKUP TRUCK - STANDARD       1.2915      0.330      3.917      0.000       0.645       1.938\n",
      "Cls_SPECIAL PURPOSE VEHICLE       1.7093      0.569      3.003      0.003       0.593       2.825\n",
      "Cls_SUBCOMPACT                   -0.4251      0.215     -1.979      0.048      -0.846      -0.004\n",
      "Cls_SUV - STANDARD                1.4352      0.243      5.917      0.000       0.960       1.911\n",
      "Cls_VAN - CARGO                 -11.1004      1.095    -10.134      0.000     -13.248      -8.953\n",
      "Cls_VAN - PASSENGER              -2.7185      0.735     -3.699      0.000      -4.159      -1.278\n",
      "Fuel_E                         -137.8465      0.571   -241.410      0.000    -138.966    -136.727\n",
      "Fuel_N                         -110.8543      4.719    -23.490      0.000    -120.105    -101.603\n",
      "Fuel_X                          -30.6519      0.390    -78.580      0.000     -31.417     -29.887\n",
      "Fuel_Z                          -29.2594      0.404    -72.399      0.000     -30.052     -28.467\n",
      "==============================================================================\n",
      "Omnibus:                     1777.101   Durbin-Watson:                   1.706\n",
      "Prob(Omnibus):                  0.000   Jarque-Bera (JB):           103418.560\n",
      "Skew:                          -0.164   Prob(JB):                         0.00\n",
      "Kurtosis:                      21.330   Cond. No.                     2.95e+03\n",
      "==============================================================================\n",
      "\n",
      "Warnings:\n",
      "[1] Standard Errors assume that the covariance matrix of the errors is correctly specified.\n",
      "[2] The condition number is large, 2.95e+03. This might indicate that there are\n",
      "strong multicollinearity or other numerical problems.\n"
     ]
    }
   ],
   "source": [
    "while(lr.pvalues.max()>0.05):\n",
    "    X2.drop(lr.pvalues.idxmax(),axis=1,inplace=True)\n",
    "    ols = sm.OLS(y,X2)\n",
    "    lr = ols.fit()\n",
    "print(lr.summary())"
   ]
  },
  {
   "cell_type": "code",
   "execution_count": 18,
   "metadata": {},
   "outputs": [
    {
     "data": {
      "text/html": [
       "<div>\n",
       "<style scoped>\n",
       "    .dataframe tbody tr th:only-of-type {\n",
       "        vertical-align: middle;\n",
       "    }\n",
       "\n",
       "    .dataframe tbody tr th {\n",
       "        vertical-align: top;\n",
       "    }\n",
       "\n",
       "    .dataframe thead th {\n",
       "        text-align: right;\n",
       "    }\n",
       "</style>\n",
       "<table border=\"1\" class=\"dataframe\">\n",
       "  <thead>\n",
       "    <tr style=\"text-align: right;\">\n",
       "      <th></th>\n",
       "      <th>const</th>\n",
       "      <th>EngineSize(L)</th>\n",
       "      <th>Cylinders</th>\n",
       "      <th>FuelConsumptionCity(L/100 km)</th>\n",
       "      <th>FuelConsumptionHwy(L/100 km)</th>\n",
       "      <th>FuelConsumptionComb(L/100 km)</th>\n",
       "      <th>FuelConsumptionComb(mpg)</th>\n",
       "      <th>Automatic</th>\n",
       "      <th>Automatic with Select Shift</th>\n",
       "      <th>Manual</th>\n",
       "      <th>...</th>\n",
       "      <th>Cls_PICKUP TRUCK - STANDARD</th>\n",
       "      <th>Cls_SPECIAL PURPOSE VEHICLE</th>\n",
       "      <th>Cls_SUBCOMPACT</th>\n",
       "      <th>Cls_SUV - STANDARD</th>\n",
       "      <th>Cls_VAN - CARGO</th>\n",
       "      <th>Cls_VAN - PASSENGER</th>\n",
       "      <th>Fuel_E</th>\n",
       "      <th>Fuel_N</th>\n",
       "      <th>Fuel_X</th>\n",
       "      <th>Fuel_Z</th>\n",
       "    </tr>\n",
       "  </thead>\n",
       "  <tbody>\n",
       "    <tr>\n",
       "      <th>0</th>\n",
       "      <td>1.0</td>\n",
       "      <td>2.0</td>\n",
       "      <td>4</td>\n",
       "      <td>9.9</td>\n",
       "      <td>6.7</td>\n",
       "      <td>8.5</td>\n",
       "      <td>33</td>\n",
       "      <td>0</td>\n",
       "      <td>1</td>\n",
       "      <td>0</td>\n",
       "      <td>...</td>\n",
       "      <td>0</td>\n",
       "      <td>0</td>\n",
       "      <td>0</td>\n",
       "      <td>0</td>\n",
       "      <td>0</td>\n",
       "      <td>0</td>\n",
       "      <td>0</td>\n",
       "      <td>0</td>\n",
       "      <td>0</td>\n",
       "      <td>1</td>\n",
       "    </tr>\n",
       "    <tr>\n",
       "      <th>1</th>\n",
       "      <td>1.0</td>\n",
       "      <td>2.4</td>\n",
       "      <td>4</td>\n",
       "      <td>11.2</td>\n",
       "      <td>7.7</td>\n",
       "      <td>9.6</td>\n",
       "      <td>29</td>\n",
       "      <td>0</td>\n",
       "      <td>0</td>\n",
       "      <td>1</td>\n",
       "      <td>...</td>\n",
       "      <td>0</td>\n",
       "      <td>0</td>\n",
       "      <td>0</td>\n",
       "      <td>0</td>\n",
       "      <td>0</td>\n",
       "      <td>0</td>\n",
       "      <td>0</td>\n",
       "      <td>0</td>\n",
       "      <td>0</td>\n",
       "      <td>1</td>\n",
       "    </tr>\n",
       "    <tr>\n",
       "      <th>2</th>\n",
       "      <td>1.0</td>\n",
       "      <td>1.5</td>\n",
       "      <td>4</td>\n",
       "      <td>6.0</td>\n",
       "      <td>5.8</td>\n",
       "      <td>5.9</td>\n",
       "      <td>48</td>\n",
       "      <td>0</td>\n",
       "      <td>0</td>\n",
       "      <td>0</td>\n",
       "      <td>...</td>\n",
       "      <td>0</td>\n",
       "      <td>0</td>\n",
       "      <td>0</td>\n",
       "      <td>0</td>\n",
       "      <td>0</td>\n",
       "      <td>0</td>\n",
       "      <td>0</td>\n",
       "      <td>0</td>\n",
       "      <td>0</td>\n",
       "      <td>1</td>\n",
       "    </tr>\n",
       "    <tr>\n",
       "      <th>3</th>\n",
       "      <td>1.0</td>\n",
       "      <td>3.5</td>\n",
       "      <td>6</td>\n",
       "      <td>12.7</td>\n",
       "      <td>9.1</td>\n",
       "      <td>11.1</td>\n",
       "      <td>25</td>\n",
       "      <td>0</td>\n",
       "      <td>1</td>\n",
       "      <td>0</td>\n",
       "      <td>...</td>\n",
       "      <td>0</td>\n",
       "      <td>0</td>\n",
       "      <td>0</td>\n",
       "      <td>0</td>\n",
       "      <td>0</td>\n",
       "      <td>0</td>\n",
       "      <td>0</td>\n",
       "      <td>0</td>\n",
       "      <td>0</td>\n",
       "      <td>1</td>\n",
       "    </tr>\n",
       "    <tr>\n",
       "      <th>4</th>\n",
       "      <td>1.0</td>\n",
       "      <td>3.5</td>\n",
       "      <td>6</td>\n",
       "      <td>12.1</td>\n",
       "      <td>8.7</td>\n",
       "      <td>10.6</td>\n",
       "      <td>27</td>\n",
       "      <td>0</td>\n",
       "      <td>1</td>\n",
       "      <td>0</td>\n",
       "      <td>...</td>\n",
       "      <td>0</td>\n",
       "      <td>0</td>\n",
       "      <td>0</td>\n",
       "      <td>0</td>\n",
       "      <td>0</td>\n",
       "      <td>0</td>\n",
       "      <td>0</td>\n",
       "      <td>0</td>\n",
       "      <td>0</td>\n",
       "      <td>1</td>\n",
       "    </tr>\n",
       "  </tbody>\n",
       "</table>\n",
       "<p>5 rows × 48 columns</p>\n",
       "</div>"
      ],
      "text/plain": [
       "   const  EngineSize(L)  Cylinders  FuelConsumptionCity(L/100 km)  \\\n",
       "0    1.0            2.0          4                            9.9   \n",
       "1    1.0            2.4          4                           11.2   \n",
       "2    1.0            1.5          4                            6.0   \n",
       "3    1.0            3.5          6                           12.7   \n",
       "4    1.0            3.5          6                           12.1   \n",
       "\n",
       "   FuelConsumptionHwy(L/100 km)  FuelConsumptionComb(L/100 km)  \\\n",
       "0                           6.7                            8.5   \n",
       "1                           7.7                            9.6   \n",
       "2                           5.8                            5.9   \n",
       "3                           9.1                           11.1   \n",
       "4                           8.7                           10.6   \n",
       "\n",
       "   FuelConsumptionComb(mpg)  Automatic  Automatic with Select Shift  Manual  \\\n",
       "0                        33          0                            1       0   \n",
       "1                        29          0                            0       1   \n",
       "2                        48          0                            0       0   \n",
       "3                        25          0                            1       0   \n",
       "4                        27          0                            1       0   \n",
       "\n",
       "   ...  Cls_PICKUP TRUCK - STANDARD  Cls_SPECIAL PURPOSE VEHICLE  \\\n",
       "0  ...                            0                            0   \n",
       "1  ...                            0                            0   \n",
       "2  ...                            0                            0   \n",
       "3  ...                            0                            0   \n",
       "4  ...                            0                            0   \n",
       "\n",
       "   Cls_SUBCOMPACT  Cls_SUV - STANDARD  Cls_VAN - CARGO  Cls_VAN - PASSENGER  \\\n",
       "0               0                   0                0                    0   \n",
       "1               0                   0                0                    0   \n",
       "2               0                   0                0                    0   \n",
       "3               0                   0                0                    0   \n",
       "4               0                   0                0                    0   \n",
       "\n",
       "   Fuel_E  Fuel_N  Fuel_X  Fuel_Z  \n",
       "0       0       0       0       1  \n",
       "1       0       0       0       1  \n",
       "2       0       0       0       1  \n",
       "3       0       0       0       1  \n",
       "4       0       0       0       1  \n",
       "\n",
       "[5 rows x 48 columns]"
      ]
     },
     "execution_count": 18,
     "metadata": {},
     "output_type": "execute_result"
    }
   ],
   "source": [
    "X2.head()"
   ]
  },
  {
   "cell_type": "markdown",
   "metadata": {},
   "source": [
    "# Splitting the data into training and Testing"
   ]
  },
  {
   "cell_type": "code",
   "execution_count": 19,
   "metadata": {},
   "outputs": [],
   "source": [
    "from sklearn.model_selection import train_test_split\n",
    "X_train,X_test,y_train,y_test = train_test_split(X2,y,test_size = 0.2,random_state=101)"
   ]
  },
  {
   "cell_type": "markdown",
   "metadata": {},
   "source": [
    "# Standardization of the data"
   ]
  },
  {
   "cell_type": "code",
   "execution_count": 20,
   "metadata": {},
   "outputs": [],
   "source": [
    "from sklearn.preprocessing import MinMaxScaler\n",
    "sc = MinMaxScaler()\n",
    "X_train_scaled = sc.fit_transform(X_train)\n",
    "X_test_scaled = sc.transform(X_test)"
   ]
  },
  {
   "cell_type": "code",
   "execution_count": 21,
   "metadata": {},
   "outputs": [],
   "source": [
    "import warnings\n",
    "from sklearn.exceptions import DataConversionWarning\n",
    "warnings.filterwarnings(action='ignore', category=DataConversionWarning)"
   ]
  },
  {
   "cell_type": "markdown",
   "metadata": {},
   "source": [
    "# Model Building"
   ]
  },
  {
   "cell_type": "code",
   "execution_count": 22,
   "metadata": {},
   "outputs": [],
   "source": [
    "from sklearn.linear_model import LinearRegression\n",
    "from sklearn.neighbors import KNeighborsRegressor\n",
    "from sklearn.svm import SVC\n",
    "from sklearn.tree import DecisionTreeRegressor\n",
    "from sklearn.ensemble import RandomForestRegressor\n",
    "from sklearn.ensemble import AdaBoostRegressor\n",
    "from sklearn.model_selection import GridSearchCV"
   ]
  },
  {
   "cell_type": "markdown",
   "metadata": {},
   "source": [
    "# Linear Regression Model"
   ]
  },
  {
   "cell_type": "code",
   "execution_count": 23,
   "metadata": {},
   "outputs": [],
   "source": [
    "from sklearn.linear_model import LinearRegression\n",
    "model = LinearRegression()\n",
    "params = {\n",
    "            'fit_intercept':[True,False], \n",
    "            'normalize':[True,False], \n",
    "            'copy_X':[True, False]}\n",
    "\n",
    "lrm = GridSearchCV(estimator = model,param_grid = params, cv=5)"
   ]
  },
  {
   "cell_type": "code",
   "execution_count": 24,
   "metadata": {},
   "outputs": [
    {
     "data": {
      "text/plain": [
       "0.9912998595828526"
      ]
     },
     "execution_count": 24,
     "metadata": {},
     "output_type": "execute_result"
    }
   ],
   "source": [
    "from sklearn.model_selection import cross_val_score\n",
    "cross_val_score(LinearRegression(),X2,y,cv=5).mean()"
   ]
  },
  {
   "cell_type": "code",
   "execution_count": 25,
   "metadata": {},
   "outputs": [
    {
     "data": {
      "text/plain": [
       "GridSearchCV(cv=5, estimator=LinearRegression(),\n",
       "             param_grid={'copy_X': [True, False],\n",
       "                         'fit_intercept': [True, False],\n",
       "                         'normalize': [True, False]})"
      ]
     },
     "execution_count": 25,
     "metadata": {},
     "output_type": "execute_result"
    }
   ],
   "source": [
    "lrm.fit(X_train_scaled, y_train)"
   ]
  },
  {
   "cell_type": "code",
   "execution_count": 26,
   "metadata": {},
   "outputs": [
    {
     "data": {
      "text/plain": [
       "{'copy_X': True, 'fit_intercept': True, 'normalize': False}"
      ]
     },
     "execution_count": 26,
     "metadata": {},
     "output_type": "execute_result"
    }
   ],
   "source": [
    "lrm.best_params_"
   ]
  },
  {
   "cell_type": "code",
   "execution_count": 27,
   "metadata": {},
   "outputs": [
    {
     "data": {
      "text/plain": [
       "0.9935089987945259"
      ]
     },
     "execution_count": 27,
     "metadata": {},
     "output_type": "execute_result"
    }
   ],
   "source": [
    "lrm.best_score_"
   ]
  },
  {
   "cell_type": "code",
   "execution_count": 28,
   "metadata": {},
   "outputs": [
    {
     "data": {
      "text/plain": [
       "0.9905644278209543"
      ]
     },
     "execution_count": 28,
     "metadata": {},
     "output_type": "execute_result"
    }
   ],
   "source": [
    "lrm.score(X_test_scaled,y_test)"
   ]
  },
  {
   "cell_type": "code",
   "execution_count": 29,
   "metadata": {},
   "outputs": [
    {
     "data": {
      "text/plain": [
       "0.9937178075154645"
      ]
     },
     "execution_count": 29,
     "metadata": {},
     "output_type": "execute_result"
    }
   ],
   "source": [
    "lrm.score(X_train_scaled,y_train)"
   ]
  },
  {
   "cell_type": "code",
   "execution_count": 30,
   "metadata": {},
   "outputs": [
    {
     "name": "stdout",
     "output_type": "stream",
     "text": [
      "0.9905644278209543\n",
      "31.53070249833977\n",
      "5.615220609943991\n"
     ]
    }
   ],
   "source": [
    "y_pred = lrm.predict(X_test_scaled)\n",
    "from sklearn.metrics import r2_score,mean_squared_error\n",
    "import math\n",
    "\n",
    "print(r2_score(y_test,y_pred)) # R^2\n",
    "print(mean_squared_error(y_test,y_pred)) #MSE\n",
    "print(math.sqrt(mean_squared_error(y_test,y_pred))) #RMSE"
   ]
  },
  {
   "cell_type": "code",
   "execution_count": 31,
   "metadata": {},
   "outputs": [
    {
     "name": "stdout",
     "output_type": "stream",
     "text": [
      "0.9902472657309024\n"
     ]
    }
   ],
   "source": [
    "#Adjusted R^2\n",
    "#adj r2=1-(1-R2)*(n-1)/(n-p-1)\n",
    "\n",
    "#n =sample size , p = number of independent variables\n",
    "n = X_test.shape[0]\n",
    "p = X_test.shape[1]\n",
    "\n",
    "\n",
    "Adj_r2=1-(1-0.9905644278209543)*(n-1)/(n-p-1)\n",
    "print(Adj_r2)"
   ]
  },
  {
   "cell_type": "markdown",
   "metadata": {},
   "source": [
    "# KNN Model"
   ]
  },
  {
   "cell_type": "code",
   "execution_count": 32,
   "metadata": {},
   "outputs": [],
   "source": [
    "from sklearn.neighbors import KNeighborsRegressor\n",
    "knn = KNeighborsRegressor()\n",
    "params = {  'n_neighbors':[5,10,15,20,25],\n",
    "            'weights':['uniform', 'distance'],\n",
    "            'algorithm':['auto', 'ball_tree', 'kd_tree', 'brute'],\n",
    "            'leaf_size':[10,20,30,40,50],\n",
    "            'metric': ['euclidean', 'manhattan', 'minkowski']\n",
    "         }\n",
    "\n",
    "kn = GridSearchCV(estimator=knn, param_grid=params, cv=5)"
   ]
  },
  {
   "cell_type": "code",
   "execution_count": 33,
   "metadata": {},
   "outputs": [
    {
     "data": {
      "text/plain": [
       "0.9859396495085806"
      ]
     },
     "execution_count": 33,
     "metadata": {},
     "output_type": "execute_result"
    }
   ],
   "source": [
    "from sklearn.model_selection import cross_val_score\n",
    "cross_val_score(knn,X2,y,cv=5).mean()"
   ]
  },
  {
   "cell_type": "code",
   "execution_count": 68,
   "metadata": {},
   "outputs": [
    {
     "data": {
      "text/plain": [
       "GridSearchCV(cv=5, estimator=KNeighborsRegressor(),\n",
       "             param_grid={'algorithm': ['auto', 'ball_tree', 'kd_tree', 'brute'],\n",
       "                         'leaf_size': [10, 20, 30, 40, 50],\n",
       "                         'metric': ['euclidean', 'manhattan', 'minkowski'],\n",
       "                         'n_neighbors': [5, 10, 15, 20, 25],\n",
       "                         'weights': ['uniform', 'distance']})"
      ]
     },
     "execution_count": 68,
     "metadata": {},
     "output_type": "execute_result"
    }
   ],
   "source": [
    "kn.fit(X_train_scaled, y_train)"
   ]
  },
  {
   "cell_type": "code",
   "execution_count": 77,
   "metadata": {},
   "outputs": [
    {
     "data": {
      "text/plain": [
       "{'algorithm': 'ball_tree',\n",
       " 'leaf_size': 10,\n",
       " 'metric': 'manhattan',\n",
       " 'n_neighbors': 5,\n",
       " 'weights': 'distance'}"
      ]
     },
     "execution_count": 77,
     "metadata": {},
     "output_type": "execute_result"
    }
   ],
   "source": [
    "kn.best_params_"
   ]
  },
  {
   "cell_type": "code",
   "execution_count": 78,
   "metadata": {},
   "outputs": [
    {
     "data": {
      "text/plain": [
       "0.9827187347583346"
      ]
     },
     "execution_count": 78,
     "metadata": {},
     "output_type": "execute_result"
    }
   ],
   "source": [
    "kn.best_score_"
   ]
  },
  {
   "cell_type": "code",
   "execution_count": 79,
   "metadata": {},
   "outputs": [
    {
     "data": {
      "text/plain": [
       "0.9869259431496133"
      ]
     },
     "execution_count": 79,
     "metadata": {},
     "output_type": "execute_result"
    }
   ],
   "source": [
    "kn.score(X_test_scaled,y_test)"
   ]
  },
  {
   "cell_type": "code",
   "execution_count": 80,
   "metadata": {},
   "outputs": [
    {
     "data": {
      "text/plain": [
       "0.9996431352395955"
      ]
     },
     "execution_count": 80,
     "metadata": {},
     "output_type": "execute_result"
    }
   ],
   "source": [
    "kn.score(X_train_scaled,y_train)"
   ]
  },
  {
   "cell_type": "code",
   "execution_count": 186,
   "metadata": {},
   "outputs": [
    {
     "name": "stdout",
     "output_type": "stream",
     "text": [
      "0.9869259431496133\n",
      "43.68936924794039\n",
      "6.609793434589344\n"
     ]
    }
   ],
   "source": [
    "y_pred = kn.predict(X_test_scaled)\n",
    "from sklearn.metrics import r2_score,mean_squared_error\n",
    "import math\n",
    "\n",
    "print(r2_score(y_test,y_pred)) # R^2\n",
    "print(mean_squared_error(y_test,y_pred)) #MSE\n",
    "print(math.sqrt(mean_squared_error(y_test,y_pred))) #RMSE"
   ]
  },
  {
   "cell_type": "code",
   "execution_count": 187,
   "metadata": {},
   "outputs": [
    {
     "name": "stdout",
     "output_type": "stream",
     "text": [
      "0.986486479053802\n"
     ]
    }
   ],
   "source": [
    "#Adjusted R^2\n",
    "#adj r2=1-(1-R2)*(n-1)/(n-p-1)\n",
    "\n",
    "#n =sample size , p = number of independent variables\n",
    "n = X_test_scaled.shape[0]\n",
    "p = X_test_scaled.shape[1]\n",
    "\n",
    "\n",
    "Adj_r2=1-(1-0.9869259431496133)*(n-1)/(n-p-1)\n",
    "print(Adj_r2)"
   ]
  },
  {
   "cell_type": "markdown",
   "metadata": {},
   "source": [
    "# SVR Model"
   ]
  },
  {
   "cell_type": "code",
   "execution_count": 35,
   "metadata": {},
   "outputs": [],
   "source": [
    "from sklearn.svm import SVR\n",
    "model = SVR()\n",
    "params = {        \n",
    "            'kernel': ['linear', 'poly', 'rbf', 'sigmoid'],\n",
    "            'degree': [2,3],\n",
    "            'gamma' : [0.03, 0.3, 1],\n",
    "             }\n",
    "svr = GridSearchCV(estimator=model, param_grid=params, cv=5)\n"
   ]
  },
  {
   "cell_type": "code",
   "execution_count": 36,
   "metadata": {},
   "outputs": [],
   "source": [
    "# import warnings filter\n",
    "from warnings import simplefilter\n",
    "# ignore all future warnings\n",
    "simplefilter(action='ignore', category=FutureWarning)"
   ]
  },
  {
   "cell_type": "code",
   "execution_count": 37,
   "metadata": {},
   "outputs": [
    {
     "data": {
      "text/plain": [
       "0.8825932702433461"
      ]
     },
     "execution_count": 37,
     "metadata": {},
     "output_type": "execute_result"
    }
   ],
   "source": [
    "from sklearn.model_selection import cross_val_score\n",
    "cross_val_score(SVR(),X2,y,cv=5).mean()"
   ]
  },
  {
   "cell_type": "code",
   "execution_count": 38,
   "metadata": {},
   "outputs": [
    {
     "data": {
      "text/plain": [
       "GridSearchCV(cv=5, estimator=SVR(),\n",
       "             param_grid={'degree': [2, 3], 'gamma': [0.03, 0.3, 1],\n",
       "                         'kernel': ['linear', 'poly', 'rbf', 'sigmoid']})"
      ]
     },
     "execution_count": 38,
     "metadata": {},
     "output_type": "execute_result"
    }
   ],
   "source": [
    "svr.fit(X_train_scaled,y_train)"
   ]
  },
  {
   "cell_type": "code",
   "execution_count": 39,
   "metadata": {},
   "outputs": [
    {
     "data": {
      "text/plain": [
       "{'degree': 3, 'gamma': 1, 'kernel': 'poly'}"
      ]
     },
     "execution_count": 39,
     "metadata": {},
     "output_type": "execute_result"
    }
   ],
   "source": [
    "svr.best_params_"
   ]
  },
  {
   "cell_type": "code",
   "execution_count": 40,
   "metadata": {},
   "outputs": [
    {
     "data": {
      "text/plain": [
       "0.9936676012496791"
      ]
     },
     "execution_count": 40,
     "metadata": {},
     "output_type": "execute_result"
    }
   ],
   "source": [
    "svr.best_score_"
   ]
  },
  {
   "cell_type": "code",
   "execution_count": 41,
   "metadata": {},
   "outputs": [
    {
     "data": {
      "text/plain": [
       "0.9949816144963228"
      ]
     },
     "execution_count": 41,
     "metadata": {},
     "output_type": "execute_result"
    }
   ],
   "source": [
    "svr.score(X_test_scaled,y_test)"
   ]
  },
  {
   "cell_type": "code",
   "execution_count": 42,
   "metadata": {},
   "outputs": [
    {
     "data": {
      "text/plain": [
       "0.995186841922924"
      ]
     },
     "execution_count": 42,
     "metadata": {},
     "output_type": "execute_result"
    }
   ],
   "source": [
    "svr.score(X_train_scaled,y_train)"
   ]
  },
  {
   "cell_type": "code",
   "execution_count": 43,
   "metadata": {},
   "outputs": [
    {
     "name": "stdout",
     "output_type": "stream",
     "text": [
      "0.9949816144963228\n",
      "16.769859562923813\n",
      "4.0951018989670835\n"
     ]
    }
   ],
   "source": [
    "y_pred = svr.predict(X_test_scaled)\n",
    "from sklearn.metrics import r2_score,mean_squared_error\n",
    "import math\n",
    "\n",
    "print(r2_score(y_test,y_pred)) # R^2\n",
    "print(mean_squared_error(y_test,y_pred)) #MSE\n",
    "print(math.sqrt(mean_squared_error(y_test,y_pred))) #RMSE"
   ]
  },
  {
   "cell_type": "code",
   "execution_count": 179,
   "metadata": {},
   "outputs": [
    {
     "name": "stdout",
     "output_type": "stream",
     "text": [
      "0.9948129292693084\n"
     ]
    }
   ],
   "source": [
    "#Adjusted R^2\n",
    "#adj r2=1-(1-R2)*(n-1)/(n-p-1)\n",
    "\n",
    "#n =sample size , p = number of independent variables\n",
    "n = X_test_scaled.shape[0]\n",
    "p = X_test_scaled.shape[1]\n",
    "\n",
    "\n",
    "Adj_r2=1-(1-0.9949816144963228)*(n-1)/(n-p-1)\n",
    "print(Adj_r2)"
   ]
  },
  {
   "cell_type": "markdown",
   "metadata": {},
   "source": [
    "# Decision Tree Regressor"
   ]
  },
  {
   "cell_type": "code",
   "execution_count": 44,
   "metadata": {},
   "outputs": [],
   "source": [
    "from sklearn.tree import DecisionTreeRegressor\n",
    "model = DecisionTreeRegressor()\n",
    "params = {          \n",
    "            'splitter':['best', 'random'],\n",
    "             'max_depth':[2,4,6,8],\n",
    "            'max_features':['auto', 'sqrt', 'log2']\n",
    "          }\n",
    "dtr = GridSearchCV(estimator=model, param_grid=params, cv=5)\n",
    "\n"
   ]
  },
  {
   "cell_type": "code",
   "execution_count": 161,
   "metadata": {},
   "outputs": [
    {
     "data": {
      "text/plain": [
       "0.9924489611181052"
      ]
     },
     "execution_count": 161,
     "metadata": {},
     "output_type": "execute_result"
    }
   ],
   "source": [
    "from sklearn.model_selection import cross_val_score\n",
    "cross_val_score(DecisionTreeRegressor(),X2,y,cv=5).mean()"
   ]
  },
  {
   "cell_type": "code",
   "execution_count": 45,
   "metadata": {},
   "outputs": [
    {
     "data": {
      "text/plain": [
       "GridSearchCV(cv=5, estimator=DecisionTreeRegressor(),\n",
       "             param_grid={'max_depth': [2, 4, 6, 8],\n",
       "                         'max_features': ['auto', 'sqrt', 'log2'],\n",
       "                         'splitter': ['best', 'random']})"
      ]
     },
     "execution_count": 45,
     "metadata": {},
     "output_type": "execute_result"
    }
   ],
   "source": [
    "dtr.fit(X_train_scaled,y_train)"
   ]
  },
  {
   "cell_type": "code",
   "execution_count": 46,
   "metadata": {},
   "outputs": [
    {
     "data": {
      "text/plain": [
       "{'max_depth': 8, 'max_features': 'auto', 'splitter': 'best'}"
      ]
     },
     "execution_count": 46,
     "metadata": {},
     "output_type": "execute_result"
    }
   ],
   "source": [
    "dtr.best_params_"
   ]
  },
  {
   "cell_type": "code",
   "execution_count": 47,
   "metadata": {},
   "outputs": [
    {
     "data": {
      "text/plain": [
       "0.9932759897676048"
      ]
     },
     "execution_count": 47,
     "metadata": {},
     "output_type": "execute_result"
    }
   ],
   "source": [
    "dtr.best_score_"
   ]
  },
  {
   "cell_type": "code",
   "execution_count": 48,
   "metadata": {},
   "outputs": [
    {
     "data": {
      "text/plain": [
       "0.9930147861345524"
      ]
     },
     "execution_count": 48,
     "metadata": {},
     "output_type": "execute_result"
    }
   ],
   "source": [
    "dtr.score(X_test_scaled,y_test)"
   ]
  },
  {
   "cell_type": "code",
   "execution_count": 49,
   "metadata": {},
   "outputs": [
    {
     "data": {
      "text/plain": [
       "0.9964072366141018"
      ]
     },
     "execution_count": 49,
     "metadata": {},
     "output_type": "execute_result"
    }
   ],
   "source": [
    "dtr.score(X_train_scaled,y_train)"
   ]
  },
  {
   "cell_type": "code",
   "execution_count": 50,
   "metadata": {},
   "outputs": [
    {
     "name": "stdout",
     "output_type": "stream",
     "text": [
      "0.9930147861345524\n",
      "23.342378829747073\n",
      "4.831395122503134\n"
     ]
    }
   ],
   "source": [
    "y_pred = dtr.predict(X_test_scaled)\n",
    "from sklearn.metrics import r2_score,mean_squared_error\n",
    "import math\n",
    "\n",
    "print(r2_score(y_test,y_pred)) # R^2\n",
    "print(mean_squared_error(y_test,y_pred)) #MSE\n",
    "print(math.sqrt(mean_squared_error(y_test,y_pred))) #RMSE"
   ]
  },
  {
   "cell_type": "code",
   "execution_count": 51,
   "metadata": {},
   "outputs": [
    {
     "name": "stdout",
     "output_type": "stream",
     "text": [
      "0.9940708926689099\n"
     ]
    }
   ],
   "source": [
    "#Adjusted R^2\n",
    "#adj r2=1-(1-R2)*(n-1)/(n-p-1)\n",
    "\n",
    "#n =sample size , p = number of independent variables\n",
    "n = X_test_scaled.shape[0]\n",
    "p = X_test_scaled.shape[1]\n",
    "\n",
    "\n",
    "Adj_r2=1-(1-0.994263709167482)*(n-1)/(n-p-1)\n",
    "print(Adj_r2)"
   ]
  },
  {
   "cell_type": "markdown",
   "metadata": {},
   "source": [
    "# Random Forest Regressor Model"
   ]
  },
  {
   "cell_type": "code",
   "execution_count": 52,
   "metadata": {},
   "outputs": [],
   "source": [
    "from sklearn.ensemble import RandomForestRegressor\n",
    "model = RandomForestRegressor()\n",
    "params = {\n",
    "            'n_estimators':[20,40,60,80,100],\n",
    "            'max_depth':[2,4,6,8],\n",
    "            'max_features':['auto','sqrt','log2']\n",
    "        }\n",
    "rfr = GridSearchCV(estimator=model, param_grid=params, cv=5)\n"
   ]
  },
  {
   "cell_type": "code",
   "execution_count": 53,
   "metadata": {},
   "outputs": [
    {
     "data": {
      "text/plain": [
       "0.9948407256706695"
      ]
     },
     "execution_count": 53,
     "metadata": {},
     "output_type": "execute_result"
    }
   ],
   "source": [
    "from sklearn.model_selection import cross_val_score\n",
    "cross_val_score(RandomForestRegressor(),X2,y,cv=5).mean()"
   ]
  },
  {
   "cell_type": "code",
   "execution_count": 54,
   "metadata": {},
   "outputs": [
    {
     "data": {
      "text/plain": [
       "GridSearchCV(cv=5, estimator=RandomForestRegressor(),\n",
       "             param_grid={'max_depth': [2, 4, 6, 8],\n",
       "                         'max_features': ['auto', 'sqrt', 'log2'],\n",
       "                         'n_estimators': [20, 40, 60, 80, 100]})"
      ]
     },
     "execution_count": 54,
     "metadata": {},
     "output_type": "execute_result"
    }
   ],
   "source": [
    "rfr.fit(X_train_scaled,y_train)"
   ]
  },
  {
   "cell_type": "code",
   "execution_count": 55,
   "metadata": {},
   "outputs": [
    {
     "data": {
      "text/plain": [
       "{'max_depth': 8, 'max_features': 'auto', 'n_estimators': 100}"
      ]
     },
     "execution_count": 55,
     "metadata": {},
     "output_type": "execute_result"
    }
   ],
   "source": [
    "rfr.best_params_"
   ]
  },
  {
   "cell_type": "code",
   "execution_count": 56,
   "metadata": {},
   "outputs": [
    {
     "data": {
      "text/plain": [
       "0.9950540342773166"
      ]
     },
     "execution_count": 56,
     "metadata": {},
     "output_type": "execute_result"
    }
   ],
   "source": [
    "rfr.best_score_"
   ]
  },
  {
   "cell_type": "code",
   "execution_count": 57,
   "metadata": {},
   "outputs": [
    {
     "data": {
      "text/plain": [
       "0.9947577398352216"
      ]
     },
     "execution_count": 57,
     "metadata": {},
     "output_type": "execute_result"
    }
   ],
   "source": [
    "rfr.score(X_test_scaled,y_test)"
   ]
  },
  {
   "cell_type": "code",
   "execution_count": 58,
   "metadata": {},
   "outputs": [
    {
     "data": {
      "text/plain": [
       "0.9970678931561106"
      ]
     },
     "execution_count": 58,
     "metadata": {},
     "output_type": "execute_result"
    }
   ],
   "source": [
    "rfr.score(X_train_scaled,y_train)"
   ]
  },
  {
   "cell_type": "code",
   "execution_count": 59,
   "metadata": {},
   "outputs": [
    {
     "name": "stdout",
     "output_type": "stream",
     "text": [
      "0.9947577398352216\n",
      "17.517977981409793\n",
      "4.185448360858104\n"
     ]
    }
   ],
   "source": [
    "y_pred = rfr.predict(X_test_scaled)\n",
    "from sklearn.metrics import r2_score,mean_squared_error\n",
    "import math\n",
    "\n",
    "print(r2_score(y_test,y_pred)) # R^2\n",
    "print(mean_squared_error(y_test,y_pred)) #MSE\n",
    "print(math.sqrt(mean_squared_error(y_test,y_pred))) #RMSE"
   ]
  },
  {
   "cell_type": "code",
   "execution_count": 60,
   "metadata": {},
   "outputs": [
    {
     "name": "stdout",
     "output_type": "stream",
     "text": [
      "0.9945728024178945\n"
     ]
    }
   ],
   "source": [
    "#Adjusted R^2\n",
    "#adj r2=1-(1-R2)*(n-1)/(n-p-1)\n",
    "\n",
    "#n =sample size , p = number of independent variables\n",
    "n = X_test_scaled.shape[0]\n",
    "p = X_test_scaled.shape[1]\n",
    "\n",
    "\n",
    "Adj_r2=1-(1-0.9947492966482069)*(n-1)/(n-p-1)\n",
    "print(Adj_r2)"
   ]
  },
  {
   "cell_type": "markdown",
   "metadata": {},
   "source": [
    "# AdaBoost Model"
   ]
  },
  {
   "cell_type": "code",
   "execution_count": 61,
   "metadata": {},
   "outputs": [],
   "source": [
    "from sklearn.ensemble import AdaBoostRegressor\n",
    "from sklearn.tree import DecisionTreeRegressor\n",
    "\n",
    "params = {'base_estimator': [DecisionTreeRegressor(max_depth=1),\n",
    "                            DecisionTreeRegressor(max_depth=5),\n",
    "                            DecisionTreeRegressor(max_depth=10)],\n",
    "           'n_estimators':[20,40,60,80,100]\n",
    "         }\n",
    "ada = GridSearchCV(AdaBoostRegressor(),param_grid=params,cv=5)\n"
   ]
  },
  {
   "cell_type": "code",
   "execution_count": 62,
   "metadata": {},
   "outputs": [
    {
     "data": {
      "text/plain": [
       "0.9366903520069332"
      ]
     },
     "execution_count": 62,
     "metadata": {},
     "output_type": "execute_result"
    }
   ],
   "source": [
    "from sklearn.model_selection import cross_val_score\n",
    "cross_val_score(AdaBoostRegressor(),X2,y,cv=5).mean()"
   ]
  },
  {
   "cell_type": "code",
   "execution_count": 63,
   "metadata": {},
   "outputs": [
    {
     "data": {
      "text/plain": [
       "GridSearchCV(cv=5, estimator=AdaBoostRegressor(),\n",
       "             param_grid={'base_estimator': [DecisionTreeRegressor(max_depth=1),\n",
       "                                            DecisionTreeRegressor(max_depth=5),\n",
       "                                            DecisionTreeRegressor(max_depth=10)],\n",
       "                         'n_estimators': [20, 40, 60, 80, 100]})"
      ]
     },
     "execution_count": 63,
     "metadata": {},
     "output_type": "execute_result"
    }
   ],
   "source": [
    "ada.fit(X_train_scaled,y_train)"
   ]
  },
  {
   "cell_type": "code",
   "execution_count": 64,
   "metadata": {},
   "outputs": [
    {
     "data": {
      "text/plain": [
       "{'base_estimator': DecisionTreeRegressor(max_depth=10), 'n_estimators': 100}"
      ]
     },
     "execution_count": 64,
     "metadata": {},
     "output_type": "execute_result"
    }
   ],
   "source": [
    "ada.best_params_"
   ]
  },
  {
   "cell_type": "code",
   "execution_count": 65,
   "metadata": {},
   "outputs": [
    {
     "data": {
      "text/plain": [
       "0.9970197797257706"
      ]
     },
     "execution_count": 65,
     "metadata": {},
     "output_type": "execute_result"
    }
   ],
   "source": [
    "ada.best_score_"
   ]
  },
  {
   "cell_type": "code",
   "execution_count": 66,
   "metadata": {},
   "outputs": [
    {
     "data": {
      "text/plain": [
       "0.9950961843327012"
      ]
     },
     "execution_count": 66,
     "metadata": {},
     "output_type": "execute_result"
    }
   ],
   "source": [
    "ada.score(X_test_scaled,y_test)"
   ]
  },
  {
   "cell_type": "code",
   "execution_count": 67,
   "metadata": {},
   "outputs": [
    {
     "data": {
      "text/plain": [
       "0.9985866189751552"
      ]
     },
     "execution_count": 67,
     "metadata": {},
     "output_type": "execute_result"
    }
   ],
   "source": [
    "ada.score(X_train_scaled,y_train)"
   ]
  },
  {
   "cell_type": "code",
   "execution_count": 150,
   "metadata": {},
   "outputs": [
    {
     "name": "stdout",
     "output_type": "stream",
     "text": [
      "0.9950116751992586\n",
      "16.669406186787857\n",
      "4.0828184121741025\n"
     ]
    }
   ],
   "source": [
    "y_pred = ada.predict(X_test_scaled)\n",
    "from sklearn.metrics import r2_score,mean_squared_error\n",
    "import math\n",
    "\n",
    "print(r2_score(y_test,y_pred)) # R^2\n",
    "print(mean_squared_error(y_test,y_pred)) #MSE\n",
    "print(math.sqrt(mean_squared_error(y_test,y_pred))) #RMSE"
   ]
  },
  {
   "cell_type": "code",
   "execution_count": 170,
   "metadata": {},
   "outputs": [
    {
     "name": "stdout",
     "output_type": "stream",
     "text": [
      "0.9948440004160404\n"
     ]
    }
   ],
   "source": [
    "#Adjusted R^2\n",
    "#adj r2=1-(1-R2)*(n-1)/(n-p-1)\n",
    "\n",
    "#n =sample size , p = number of independent variables\n",
    "n = X_test_scaled.shape[0]\n",
    "p = X_test_scaled.shape[1]\n",
    "\n",
    "\n",
    "Adj_r2=1-(1-0.9950116751992586)*(n-1)/(n-p-1)\n",
    "print(Adj_r2)"
   ]
  },
  {
   "cell_type": "markdown",
   "metadata": {},
   "source": [
    "# Combined code for Hyper Parameter Tuning in all the models Together"
   ]
  },
  {
   "cell_type": "code",
   "execution_count": 189,
   "metadata": {
    "code_folding": []
   },
   "outputs": [],
   "source": [
    "model_param = {\n",
    "    'LinearRegression' : {\n",
    "        'model': LinearRegression(),\n",
    "        'param':{\n",
    "            'fit_intercept':[True,False], \n",
    "            'normalize':[True,False], \n",
    "            'copy_X':[True, False]\n",
    "        }\n",
    "       \n",
    "    },\n",
    "    \n",
    "    'KNeighborsRegressor':{\n",
    "        'model':KNeighborsRegressor(),\n",
    "        'param':{\n",
    "            'n_neighbors': [5,10,15,20,25],\n",
    "            'weights':['uniform', 'distance'],\n",
    "            'algorithm':['auto', 'ball_tree', 'kd_tree', 'brute'],\n",
    "            'leaf_size':[10,20,30,40,50]\n",
    "        }\n",
    "    },\n",
    "    \n",
    "     'SVR':{\n",
    "        'model':SVR(),\n",
    "        'param':{        \n",
    "            'kernel': ['linear', 'poly', 'rbf', 'sigmoid'],\n",
    "            'degree': [2,3],\n",
    "            'gamma' : [0.03, 0.3, 1],\n",
    "             }\n",
    "         \n",
    "      },\n",
    "          \n",
    "      'DecisionTreeRegressor':{\n",
    "        'model':DecisionTreeRegressor(),\n",
    "        'param':{          \n",
    "            'splitter':['best', 'random'],\n",
    "             'max_depth':[2,4,6,8],\n",
    "            'max_features':['auto', 'sqrt', 'log2']\n",
    "          }\n",
    "    },\n",
    "            \n",
    "    'RandomForestRegressor':{\n",
    "        'model' : RandomForestRegressor(),\n",
    "        'param': {\n",
    "            'n_estimators':[20,40,60,80,100],\n",
    "            'max_depth':[2,4,6,8],\n",
    "            'max_features':['auto','sqrt','log2']\n",
    "        }\n",
    "    },\n",
    "    \n",
    "    'AdaBoostRegressor' :{\n",
    "        'model': AdaBoostRegressor(),\n",
    "        'param': {\n",
    "            'base_estimator': [DecisionTreeRegressor(max_depth=1),\n",
    "                            DecisionTreeRegressor(max_depth=5),\n",
    "                            DecisionTreeRegressor(max_depth=10)],\n",
    "           'n_estimators':[20,40,60,80,100]\n",
    "             }\n",
    "        }   \n",
    "\n",
    "    }"
   ]
  },
  {
   "cell_type": "code",
   "execution_count": 191,
   "metadata": {},
   "outputs": [],
   "source": [
    "scores =[]\n",
    "for model_name, mp in model_param.items():\n",
    "    model_selection = GridSearchCV(estimator=mp['model'],param_grid=mp['param'],cv=5,return_train_score=False)\n",
    "    model_selection.fit(X_train_scaled,y_train)\n",
    "    scores.append({\n",
    "        'model': model_name,\n",
    "        'best_score': model_selection.best_score_,\n",
    "        'best_params': model_selection.best_params_\n",
    "    })"
   ]
  },
  {
   "cell_type": "code",
   "execution_count": 192,
   "metadata": {},
   "outputs": [
    {
     "data": {
      "text/html": [
       "<div>\n",
       "<style scoped>\n",
       "    .dataframe tbody tr th:only-of-type {\n",
       "        vertical-align: middle;\n",
       "    }\n",
       "\n",
       "    .dataframe tbody tr th {\n",
       "        vertical-align: top;\n",
       "    }\n",
       "\n",
       "    .dataframe thead th {\n",
       "        text-align: right;\n",
       "    }\n",
       "</style>\n",
       "<table border=\"1\" class=\"dataframe\">\n",
       "  <thead>\n",
       "    <tr style=\"text-align: right;\">\n",
       "      <th></th>\n",
       "      <th>model</th>\n",
       "      <th>best_score</th>\n",
       "      <th>best_params</th>\n",
       "    </tr>\n",
       "  </thead>\n",
       "  <tbody>\n",
       "    <tr>\n",
       "      <th>0</th>\n",
       "      <td>LinearRegression</td>\n",
       "      <td>0.993509</td>\n",
       "      <td>{'copy_X': True, 'fit_intercept': True, 'normalize': False}</td>\n",
       "    </tr>\n",
       "    <tr>\n",
       "      <th>1</th>\n",
       "      <td>KNeighborsRegressor</td>\n",
       "      <td>0.973657</td>\n",
       "      <td>{'algorithm': 'ball_tree', 'leaf_size': 20, 'n_neighbors': 5, 'weights': 'distance'}</td>\n",
       "    </tr>\n",
       "    <tr>\n",
       "      <th>2</th>\n",
       "      <td>SVR</td>\n",
       "      <td>0.993668</td>\n",
       "      <td>{'degree': 3, 'gamma': 1, 'kernel': 'poly'}</td>\n",
       "    </tr>\n",
       "    <tr>\n",
       "      <th>3</th>\n",
       "      <td>DecisionTreeRegressor</td>\n",
       "      <td>0.993064</td>\n",
       "      <td>{'max_depth': 8, 'max_features': 'auto', 'splitter': 'best'}</td>\n",
       "    </tr>\n",
       "    <tr>\n",
       "      <th>4</th>\n",
       "      <td>RandomForestRegressor</td>\n",
       "      <td>0.995052</td>\n",
       "      <td>{'max_depth': 8, 'max_features': 'auto', 'n_estimators': 60}</td>\n",
       "    </tr>\n",
       "    <tr>\n",
       "      <th>5</th>\n",
       "      <td>AdaBoostRegressor</td>\n",
       "      <td>0.997000</td>\n",
       "      <td>{'base_estimator': DecisionTreeRegressor(max_depth=10), 'n_estimators': 60}</td>\n",
       "    </tr>\n",
       "  </tbody>\n",
       "</table>\n",
       "</div>"
      ],
      "text/plain": [
       "                   model  best_score  \\\n",
       "0  LinearRegression       0.993509     \n",
       "1  KNeighborsRegressor    0.973657     \n",
       "2  SVR                    0.993668     \n",
       "3  DecisionTreeRegressor  0.993064     \n",
       "4  RandomForestRegressor  0.995052     \n",
       "5  AdaBoostRegressor      0.997000     \n",
       "\n",
       "                                                                            best_params  \n",
       "0  {'copy_X': True, 'fit_intercept': True, 'normalize': False}                           \n",
       "1  {'algorithm': 'ball_tree', 'leaf_size': 20, 'n_neighbors': 5, 'weights': 'distance'}  \n",
       "2  {'degree': 3, 'gamma': 1, 'kernel': 'poly'}                                           \n",
       "3  {'max_depth': 8, 'max_features': 'auto', 'splitter': 'best'}                          \n",
       "4  {'max_depth': 8, 'max_features': 'auto', 'n_estimators': 60}                          \n",
       "5  {'base_estimator': DecisionTreeRegressor(max_depth=10), 'n_estimators': 60}           "
      ]
     },
     "execution_count": 192,
     "metadata": {},
     "output_type": "execute_result"
    }
   ],
   "source": [
    "data_model_score = pd.DataFrame(scores,columns=['model','best_score','best_params'])\n",
    "pd.set_option('display.max_colwidth', -1)\n",
    "data_model_score"
   ]
  },
  {
   "cell_type": "code",
   "execution_count": null,
   "metadata": {},
   "outputs": [],
   "source": []
  }
 ],
 "metadata": {
  "kernelspec": {
   "display_name": "Python 3",
   "language": "python",
   "name": "python3"
  },
  "language_info": {
   "codemirror_mode": {
    "name": "ipython",
    "version": 3
   },
   "file_extension": ".py",
   "mimetype": "text/x-python",
   "name": "python",
   "nbconvert_exporter": "python",
   "pygments_lexer": "ipython3",
   "version": "3.8.3"
  },
  "toc": {
   "base_numbering": 1,
   "nav_menu": {},
   "number_sections": true,
   "sideBar": true,
   "skip_h1_title": false,
   "title_cell": "Table of Contents",
   "title_sidebar": "Contents",
   "toc_cell": false,
   "toc_position": {},
   "toc_section_display": true,
   "toc_window_display": false
  }
 },
 "nbformat": 4,
 "nbformat_minor": 4
}
